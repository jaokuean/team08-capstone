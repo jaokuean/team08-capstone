{
 "cells": [
  {
   "cell_type": "code",
   "execution_count": null,
   "id": "c439342c",
   "metadata": {},
   "outputs": [],
   "source": [
    "import pandas as pd\n",
    "pd.set_option('display.max_rows', 100)\n",
    "import numpy as np\n",
    "import seaborn as sns\n",
    "from matplotlib import pyplot as plt\n",
    "\n",
    "import re\n",
    "from tqdm import tqdm\n",
    "\n",
    "from sklearn.model_selection import ParameterGrid\n",
    "from sklearn.linear_model import LogisticRegression\n",
    "from sklearn.svm import SVC\n",
    "from sklearn.metrics import classification_report, f1_score, precision_score, recall_score, accuracy_score\n",
    "from imblearn.over_sampling import SMOTE\n",
    "\n",
    "import warnings\n",
    "warnings.filterwarnings(\"ignore\")"
   ]
  },
  {
   "cell_type": "code",
   "execution_count": null,
   "id": "a1e3bdbd",
   "metadata": {
    "scrolled": false
   },
   "outputs": [],
   "source": [
    "models = [\"LR\", \"NB\", \"SVM\"]  #[\"RF\", \"LR\", \"NB\", \"SVM\"]\n",
    "meta_model_train = pd.DataFrame()\n",
    "meta_model_test = pd.DataFrame()\n",
    "meta_model_fold_1 = pd.DataFrame()\n",
    "meta_model_fold_2 = pd.DataFrame()\n",
    "meta_model_fold_3 = pd.DataFrame()\n",
    "meta_model_fold_4 = pd.DataFrame()\n",
    "meta_model_fold_5 = pd.DataFrame()\n",
    "\n",
    "for model in models:\n",
    "    fold1pred = pd.read_csv(f'fold_predictions/{model}/{model}_fold1.csv')\n",
    "    meta_model_fold_1 = pd.concat([meta_model_fold_1,fold1pred], axis=1)\n",
    "    \n",
    "    fold2pred = pd.read_csv(f'fold_predictions/{model}/{model}_fold2.csv')\n",
    "    meta_model_fold_2 = pd.concat([meta_model_fold_2,fold2pred], axis=1)\n",
    "\n",
    "    fold3pred = pd.read_csv(f'fold_predictions/{model}/{model}_fold3.csv')\n",
    "    meta_model_fold_3 = pd.concat([meta_model_fold_3,fold3pred], axis=1)\n",
    "\n",
    "    fold4pred = pd.read_csv(f'fold_predictions/{model}/{model}_fold4.csv')\n",
    "    meta_model_fold_4 = pd.concat([meta_model_fold_4,fold4pred], axis=1)\n",
    "\n",
    "    fold5pred = pd.read_csv(f'fold_predictions/{model}/{model}_fold5.csv')    \n",
    "    meta_model_fold_5 = pd.concat([meta_model_fold_5,fold5pred], axis=1)\n",
    "\n",
    "    all_pred_train = pd.concat([fold1pred,fold2pred,fold3pred,fold4pred,fold5pred],axis = 0)\n",
    "    meta_model_train = pd.concat([meta_model_train,all_pred_train], axis=1)\n",
    "    \n",
    "    testpred = pd.read_csv(f'fold_predictions/{model}/{model}_test.csv')\n",
    "    meta_model_test = pd.concat([meta_model_test,testpred], axis=1)\n",
    "\n",
    "    \n",
    "data = [meta_model_fold_1,meta_model_fold_2,meta_model_fold_3,meta_model_fold_4,meta_model_fold_5,meta_model_train]\n",
    "meta_model_train.head()"
   ]
  },
  {
   "cell_type": "markdown",
   "id": "7e33b063",
   "metadata": {},
   "source": [
    "# Stacking"
   ]
  },
  {
   "cell_type": "code",
   "execution_count": null,
   "id": "73a4e95b",
   "metadata": {},
   "outputs": [],
   "source": [
    "# logistic regression\n",
    "logreg_params = {\n",
    "    \"C\": [0.1, 0.5, 1.0, 1.5, 5],\n",
    "    \"solver\": [\"lbfgs\", \"newton-cg\"],\n",
    "    \"penalty\": [\"l2\", \"none\"],\n",
    "    \"class_weight\": [\"balanced\", None] \n",
    "}\n",
    "logreg_paramgrid = list(ParameterGrid(logreg_params))\n",
    "\n",
    "# svm\n",
    "svm_params = {\n",
    "    \"C\": [0.1, 0.5, 1.0, 1.5, 5],\n",
    "    \"kernel\": [\"poly\", \"rbf\", \"sigmoid\"],\n",
    "    \"gamma\": [\"scale\", \"auto\"],\n",
    "    \"class_weight\": [\"balanced\", None] \n",
    "}\n",
    "\n",
    "svm_paramgrid = list(ParameterGrid(svm_params))"
   ]
  },
  {
   "cell_type": "code",
   "execution_count": null,
   "id": "6c383029",
   "metadata": {},
   "outputs": [],
   "source": [
    "def oversample_smote(X,y):\n",
    "    smote = SMOTE(random_state = 4103)\n",
    "    X, y = smote.fit_resample(X, y)\n",
    "    return X,y"
   ]
  },
  {
   "cell_type": "code",
   "execution_count": null,
   "id": "d60de8d8",
   "metadata": {},
   "outputs": [],
   "source": [
    "def models_grid_search(model_name, model_fn, model_paramgrid, data, test) : \n",
    "    ind = 0 \n",
    "    gridsearch_results = []      \n",
    "    \n",
    "    # train models\n",
    "    for model_param in model_paramgrid:\n",
    "\n",
    "        # 5 fold cross val\n",
    "        val_accuracy = []\n",
    "        val_f1_weighted = []\n",
    "        val_f1_zero = []\n",
    "        val_f1_one = []\n",
    "    \n",
    "        test_accuracy = []\n",
    "        test_f1_weighted = []\n",
    "        test_f1_zero = []\n",
    "        test_f1_one = []\n",
    "        \n",
    "        for i in range(5):\n",
    "            print(f\"fold {i}\")\n",
    "            train_set = pd.DataFrame()\n",
    "            for x in range(5):\n",
    "                if i != x :\n",
    "                    train_set = pd.concat([train_set,data[x]],axis=0)\n",
    "            val_set = data[i]\n",
    "            test_set = test\n",
    "            trainval_set = data[5]\n",
    "\n",
    "            train_label = train_set.relevance\n",
    "            val_label = val_set.relevance\n",
    "            test_label = test_set.relevance\n",
    "            trainval_label = trainval_set.relevance\n",
    "\n",
    "            # train on train model test on val\n",
    "            model = model_fn(**model_param)\n",
    "            vec_train_over, label_train_over = oversample_smote(train_set.iloc[:,:-1],train_label)\n",
    "            model.fit(vec_train_over, label_train_over)\n",
    "            val_pred = model.predict(val_set.iloc[:,:-1])\n",
    "            \n",
    "            # scoring\n",
    "            val_metrics = classification_report(val_label, val_pred, output_dict=True)\n",
    "            val_accuracy.append(val_metrics[\"accuracy\"])\n",
    "            val_f1_weighted.append(val_metrics[\"weighted avg\"][\"f1-score\"])\n",
    "            val_f1_zero.append(val_metrics[\"0\"][\"f1-score\"])\n",
    "            val_f1_one.append(val_metrics[\"1\"][\"f1-score\"])\n",
    "\n",
    "            # train on train_val model test on test\n",
    "            model = model_fn(**model_param)\n",
    "            vec_tv_over, label_tv_over = oversample_smote(trainval_set.iloc[:,:-1],trainval_label)\n",
    "            model.fit(vec_tv_over, label_tv_over)\n",
    "            test_pred = model.predict(test_set.iloc[:,:-1])\n",
    "            # scoring\n",
    "            test_metrics = classification_report(test_label, test_pred, output_dict=True)\n",
    "            test_accuracy.append(test_metrics[\"accuracy\"])\n",
    "            test_f1_weighted.append(test_metrics[\"weighted avg\"][\"f1-score\"])\n",
    "            test_f1_zero.append(test_metrics[\"0\"][\"f1-score\"])\n",
    "            test_f1_one.append(test_metrics[\"1\"][\"f1-score\"])\n",
    "\n",
    "        results = { \"model\": model_name }\n",
    "        results.update(model_param)\n",
    "        results.update({\"val_f1_weighted\": np.mean(val_f1_weighted), \n",
    "                        \"val_f1_zero\": np.mean(val_f1_zero), \"val_f1_one\": np.mean(val_f1_one),\n",
    "                        \"val_accuracy\": np.mean(val_accuracy)})\n",
    "        results.update({\"test_f1_weighted\": np.mean(test_f1_weighted),\n",
    "                        \"test_f1_zero\": np.mean(test_f1_zero), \"test_f1_one\": np.mean(test_f1_one),\n",
    "                        \"test_accuracy\": np.mean(test_accuracy)})\n",
    "        gridsearch_results.append(results)\n",
    "        ind += 1\n",
    "    return gridsearch_results"
   ]
  },
  {
   "cell_type": "code",
   "execution_count": null,
   "id": "d625a2ac",
   "metadata": {
    "scrolled": true
   },
   "outputs": [],
   "source": [
    "model_name = \"logreg\"\n",
    "model_fn = LogisticRegression\n",
    "model_paramgrid = logreg_paramgrid\n",
    "final_logreg_results = pd.DataFrame.from_records(models_grid_search(model_name,model_fn,model_paramgrid, data, meta_model_test))"
   ]
  },
  {
   "cell_type": "code",
   "execution_count": null,
   "id": "304d314c",
   "metadata": {},
   "outputs": [],
   "source": [
    "final_logreg_results = final_logreg_results.sort_values(by=[\"val_f1_weighted\", \"test_f1_weighted\"], ascending=False)\n",
    "final_logreg_results"
   ]
  },
  {
   "cell_type": "code",
   "execution_count": null,
   "id": "f0a41f6d",
   "metadata": {},
   "outputs": [],
   "source": [
    "final_logreg_results = final_logreg_results.sort_values(by=[\"val_f1_weighted\", \"test_f1_weighted\"], ascending=False)\n",
    "final_logreg_results.to_csv('model_results/stacking_results_lr_no_rf.csv')"
   ]
  },
  {
   "cell_type": "code",
   "execution_count": null,
   "id": "4b7253ea",
   "metadata": {
    "scrolled": true
   },
   "outputs": [],
   "source": [
    "model_name = \"svm\"\n",
    "model_fn = SVC\n",
    "model_paramgrid = svm_paramgrid\n",
    "final_svm_results = pd.DataFrame.from_records(models_grid_search(model_name,model_fn,model_paramgrid, data, meta_model_test))"
   ]
  },
  {
   "cell_type": "code",
   "execution_count": null,
   "id": "eaf7c959",
   "metadata": {},
   "outputs": [],
   "source": [
    "final_svm_results = final_svm_results.sort_values(by=[\"val_f1_weighted\", \"test_f1_weighted\"], ascending=False)\n",
    "final_svm_results.to_csv('model_results/stacking_results_svm_norf.csv')"
   ]
  },
  {
   "cell_type": "markdown",
   "id": "968e5d31",
   "metadata": {},
   "source": [
    "# Prediction Correlation"
   ]
  },
  {
   "cell_type": "code",
   "execution_count": null,
   "id": "ef8abc93",
   "metadata": {},
   "outputs": [],
   "source": [
    "alldata = pd.concat([meta_model_train, meta_model_test])"
   ]
  },
  {
   "cell_type": "code",
   "execution_count": null,
   "id": "09beaa63",
   "metadata": {},
   "outputs": [],
   "source": [
    "plt.figure(figsize=(16, 6))\n",
    "# define the mask to set the values in the upper triangle to True\n",
    "mask = np.triu(np.ones_like(alldata.iloc[:,:-1].corr(), dtype=np.bool))\n",
    "heatmap = sns.heatmap(alldata.iloc[:,:-1].corr(), mask=mask, vmin=-1, vmax=1, annot=True)\n",
    "heatmap.set_title('Correlation of Predictions of Base Models', fontdict={'fontsize':18}, pad=16);"
   ]
  }
 ],
 "metadata": {
  "kernelspec": {
   "display_name": "Python 3.8.8 64-bit ('base': conda)",
   "language": "python",
   "name": "python388jvsc74a57bd0008e83f9660cc2c6b74ec749cb321b12384d3e1ed2527a0588d1b73db62f72fc"
  },
  "language_info": {
   "codemirror_mode": {
    "name": "ipython",
    "version": 3
   },
   "file_extension": ".py",
   "mimetype": "text/x-python",
   "name": "python",
   "nbconvert_exporter": "python",
   "pygments_lexer": "ipython3",
   "version": "3.8.8"
  }
 },
 "nbformat": 4,
 "nbformat_minor": 5
}

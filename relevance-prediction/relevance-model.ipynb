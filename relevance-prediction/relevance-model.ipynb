{
 "cells": [
  {
   "cell_type": "code",
   "execution_count": 50,
   "id": "000fb490",
   "metadata": {},
   "outputs": [],
   "source": [
    "import pandas as pd\n",
    "pd.set_option('display.max_rows', 100)\n",
    "import numpy as np\n",
    "import seaborn as sns\n",
    "\n",
    "from sklearn.feature_extraction.text import CountVectorizer \n",
    "import re\n",
    "from tqdm import tqdm\n",
    "from imblearn.over_sampling import RandomOverSampler \n",
    "\n",
    "from sklearn.model_selection import ParameterGrid\n",
    "\n",
    "from sklearn.dummy import DummyClassifier\n",
    "from sklearn.svm import SVC\n",
    "from sklearn.naive_bayes import MultinomialNB\n",
    "from sklearn.linear_model import LogisticRegression\n",
    "from sklearn.ensemble import RandomForestClassifier\n",
    "\n",
    "from sklearn.metrics import classification_report, f1_score, precision_score, recall_score, accuracy_score\n",
    "\n",
    "import warnings\n",
    "warnings.filterwarnings(\"ignore\")"
   ]
  },
  {
   "cell_type": "markdown",
   "id": "7b2972a7",
   "metadata": {},
   "source": [
    "# Split labelled set"
   ]
  },
  {
   "cell_type": "code",
   "execution_count": 97,
   "id": "50237798",
   "metadata": {},
   "outputs": [],
   "source": [
    "df1 = pd.read_csv('../data/all_labelled_7Oct.csv')\n",
    "train, val, test = \\\n",
    "              np.split(df1.sample(frac=1, random_state=4103), \n",
    "                       [int(.6*len(df1)), int(.8*len(df1))])\n",
    "trainval =pd.concat([train, val])"
   ]
  },
  {
   "cell_type": "code",
   "execution_count": 98,
   "id": "065bbc53",
   "metadata": {},
   "outputs": [],
   "source": [
    "X_train, y_train = train.relevant_sentences, train.relevant\n",
    "X_val, y_val = val.relevant_sentences, val.relevant\n",
    "X_trainval, y_trainval = trainval.relevant_sentences ,trainval.relevant\n",
    "X_test, y_test = test.relevant_sentences ,test.relevant"
   ]
  },
  {
   "cell_type": "markdown",
   "id": "73265af7",
   "metadata": {},
   "source": [
    "# Oversample"
   ]
  },
  {
   "cell_type": "code",
   "execution_count": 99,
   "id": "4e237c3d",
   "metadata": {},
   "outputs": [],
   "source": [
    "vectorizer = CountVectorizer()\n",
    "vectorizer.fit(X_train.values.ravel())\n",
    "X_train=vectorizer.transform(X_train.values.ravel())\n",
    "X_val = vectorizer.transform(X_val.values.ravel())\n",
    "X_trainval = vectorizer.transform(X_trainval.values.ravel())\n",
    "X_test=vectorizer.transform(X_test.values.ravel())\n",
    "\n",
    "X_val = X_val.toarray()\n",
    "X_train=X_train.toarray()\n",
    "X_trainval=X_trainval.toarray()\n",
    "X_test=X_test.toarray()"
   ]
  },
  {
   "cell_type": "code",
   "execution_count": 100,
   "id": "df277a27",
   "metadata": {},
   "outputs": [],
   "source": [
    "#Oversampling the data\n",
    "def oversample(X,y):\n",
    "    ros = RandomOverSampler(random_state = 4103)\n",
    "    X, y = ros.fit_resample(X, y)\n",
    "\n",
    "    #Creating a new Oversampling Data Frame\n",
    "    df_oversampled = pd.DataFrame(X)\n",
    "    # df_oversampled['relevant']\n",
    "    # sns.countplot(y)\n",
    "    return df_oversampled, y"
   ]
  },
  {
   "cell_type": "code",
   "execution_count": 101,
   "id": "142c2e74",
   "metadata": {},
   "outputs": [],
   "source": [
    "df_oversample_train, y_train = oversample(X_train, y_train)\n",
    "df_oversample_trainval, y_trainval = oversample(X_trainval, y_trainval)"
   ]
  },
  {
   "cell_type": "markdown",
   "id": "890ff9db",
   "metadata": {},
   "source": [
    "# Log Reg"
   ]
  },
  {
   "cell_type": "code",
   "execution_count": 115,
   "id": "9f6b76d9",
   "metadata": {},
   "outputs": [],
   "source": [
    "logreg = LogisticRegression()\n",
    "logreg.fit(df_oversample_trainval, y_trainval)\n",
    "test_pred = logreg.predict(pd.DataFrame(X_test))\n",
    "\n",
    "# scoring\n",
    "test_metrics_lr = classification_report(y_test, test_pred, output_dict=True)\n",
    "test_accuracy_lr = test_metrics_lr[\"accuracy\"]\n",
    "test_f1_weighted_lr = test_metrics_lr[\"weighted avg\"][\"f1-score\"]\n",
    "test_f1_zero_lr = test_metrics_lr[\"0\"][\"f1-score\"]\n",
    "test_f1_pos_lr = test_metrics_lr[\"1\"][\"f1-score\"]"
   ]
  },
  {
   "cell_type": "markdown",
   "id": "91db2a60",
   "metadata": {},
   "source": [
    "# Naive Bayes"
   ]
  },
  {
   "cell_type": "code",
   "execution_count": 118,
   "id": "6d87439d",
   "metadata": {},
   "outputs": [],
   "source": [
    "nb = MultinomialNB()\n",
    "nb.fit(df_oversample_trainval, y_trainval)\n",
    "test_pred = nb.predict(pd.DataFrame(X_test))\n",
    "\n",
    "# scoring\n",
    "test_metrics_nb = classification_report(y_test, test_pred, output_dict=True)\n",
    "test_accuracy_nb = test_metrics_nb[\"accuracy\"]\n",
    "test_f1_weighted_nb = test_metrics_nb[\"weighted avg\"][\"f1-score\"]\n",
    "test_f1_zero_nb = test_metrics_nb[\"0\"][\"f1-score\"]\n",
    "test_f1_pos_nb = test_metrics_nb[\"1\"][\"f1-score\"]"
   ]
  },
  {
   "cell_type": "markdown",
   "id": "e450d05b",
   "metadata": {},
   "source": [
    "# SVM"
   ]
  },
  {
   "cell_type": "code",
   "execution_count": 123,
   "id": "46489b1c",
   "metadata": {},
   "outputs": [],
   "source": [
    "svc = SVC()\n",
    "svc.fit(df_oversample_trainval, y_trainval)\n",
    "test_pred = svc.predict(pd.DataFrame(X_test))\n",
    "\n",
    "# scoring\n",
    "test_metrics_svc = classification_report(y_test, test_pred, output_dict=True)\n",
    "test_accuracy_svc = test_metrics_svc[\"accuracy\"]\n",
    "test_f1_weighted_svc = test_metrics_svc[\"weighted avg\"][\"f1-score\"]\n",
    "test_f1_zero_svc = test_metrics_svc[\"0\"][\"f1-score\"]\n",
    "test_f1_pos_svc = test_metrics_svc[\"1\"][\"f1-score\"]"
   ]
  },
  {
   "cell_type": "markdown",
   "id": "8839d0e9",
   "metadata": {},
   "source": [
    "# RF"
   ]
  },
  {
   "cell_type": "code",
   "execution_count": 127,
   "id": "a19e8876",
   "metadata": {},
   "outputs": [],
   "source": [
    "rf = RandomForestClassifier()\n",
    "rf.fit(df_oversample_trainval, y_trainval)\n",
    "test_pred = rf.predict(pd.DataFrame(X_test))\n",
    "\n",
    "# scoring\n",
    "test_metrics_rf = classification_report(y_test, test_pred, output_dict=True)\n",
    "test_accuracy_rf = test_metrics_rf[\"accuracy\"]\n",
    "test_f1_weighted_rf = test_metrics_rf[\"weighted avg\"][\"f1-score\"]\n",
    "test_f1_zero_rf = test_metrics_rf[\"0\"][\"f1-score\"]\n",
    "test_f1_pos_rf = test_metrics_rf[\"1\"][\"f1-score\"]"
   ]
  },
  {
   "cell_type": "markdown",
   "id": "4e512a38",
   "metadata": {},
   "source": [
    "# Base Classifier"
   ]
  },
  {
   "cell_type": "code",
   "execution_count": 132,
   "id": "0e65cbad",
   "metadata": {},
   "outputs": [],
   "source": [
    "dummy = DummyClassifier()\n",
    "dummy.fit(df_oversample_trainval, y_trainval)\n",
    "test_pred = dummy.predict(pd.DataFrame(X_test))\n",
    "\n",
    "# scoring\n",
    "test_metrics_dummy = classification_report(y_test, test_pred, output_dict=True)\n",
    "test_accuracy_dummy = test_metrics_dummy[\"accuracy\"]\n",
    "test_f1_weighted_dummy = test_metrics_dummy[\"weighted avg\"][\"f1-score\"]\n",
    "test_f1_zero_dummy = test_metrics_dummy[\"0\"][\"f1-score\"]\n",
    "test_f1_pos_dummy = test_metrics_dummy[\"1\"][\"f1-score\"]"
   ]
  },
  {
   "cell_type": "code",
   "execution_count": 136,
   "id": "c5a552e8",
   "metadata": {},
   "outputs": [],
   "source": [
    "accuracy = [test_accuracy_dummy, test_accuracy_lr, test_accuracy_nb,test_accuracy_svc, test_accuracy_rf]\n",
    "weight_f1 = [test_f1_weighted_dummy, test_f1_weighted_lr,test_f1_weighted_nb,test_f1_weighted_svc,test_f1_weighted_rf]"
   ]
  }
 ],
 "metadata": {
  "kernelspec": {
   "display_name": ".venv",
   "language": "python",
   "name": ".venv"
  },
  "language_info": {
   "codemirror_mode": {
    "name": "ipython",
    "version": 3
   },
   "file_extension": ".py",
   "mimetype": "text/x-python",
   "name": "python",
   "nbconvert_exporter": "python",
   "pygments_lexer": "ipython3",
   "version": "3.8.2"
  }
 },
 "nbformat": 4,
 "nbformat_minor": 5
}

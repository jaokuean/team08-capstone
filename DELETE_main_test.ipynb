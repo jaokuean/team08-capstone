{
 "cells": [
  {
   "cell_type": "code",
   "execution_count": 27,
   "metadata": {},
   "outputs": [],
   "source": [
    "import json\n",
    "import pickle\n",
    "import shutil\n",
    "import os"
   ]
  },
  {
   "cell_type": "code",
   "execution_count": 2,
   "metadata": {},
   "outputs": [],
   "source": [
    "def combine_intermediate_json(all_json_paths): # input [text,table,chart]\n",
    "    all_json = []\n",
    "    # open files\n",
    "    for paths in all_json_paths:\n",
    "        with open(paths,'r') as infile:  \n",
    "            all_json.append(json.load(infile))\n",
    "    \n",
    "    \n",
    "    # append text data\n",
    "    final_json = all_json[0]\n",
    "    \n",
    "    # append table data\n",
    "#     final_json[\"table_keywords\"] = all_json[1][\"table_keywords\"]\n",
    "#     final_json[\"table_image_keywords\"] = all_json[1][\"table_image_keywords\"]\n",
    "#     final_json[\"table_images\"] = all_json[1][\"table_images\"]\n",
    "\n",
    "    # append  chart data\n",
    "    final_json[\"chart_images_keywords\"] = all_json[2][\"chart_images_keywords\"]\n",
    "    final_json[\"chart_images\"] = all_json[2][\"chart_images\"]\n",
    "    \n",
    "    output_path = all_json_paths[2][:-12] + \"_FINAL.json\"\n",
    "                                                      \n",
    "    with open(output_path, 'w') as output_file:\n",
    "        json.dump(final_json, output_file)   \n",
    "    \n",
    "    return output_path"
   ]
  },
  {
   "cell_type": "code",
   "execution_count": 18,
   "metadata": {},
   "outputs": [],
   "source": [
    "def append_json_to_database(file_path):\n",
    "    with open(file_path,'r') as infile:  \n",
    "        new_entry = json.load(infile)\n",
    "    \n",
    "    database_path = \"data/dashboard_data_interim/final_database.json\"  #change\n",
    "    \n",
    "    with open(database_path,'r') as infile:  \n",
    "        database = json.load(infile)\n",
    "    \n",
    "    database.append(new_entry)\n",
    "    \n",
    "    with open(database_path,'w') as output_file:  \n",
    "        json.dump(database, output_file)   \n"
   ]
  },
  {
   "cell_type": "code",
   "execution_count": null,
   "metadata": {},
   "outputs": [],
   "source": [
    "def append_pickle_to_database(file_path):\n",
    "    with open(file_path, 'rb') as input_pickle:\n",
    "        new_pickle = pickle.load(input_pickle)\n",
    "    \n",
    "    database_path = \"data/dashboard_data_interim/tbl_ALL.pickle\"  #change\n",
    "    \n",
    "    with open(database_path, 'rb') as input_pickle:\n",
    "        database = pickle.load(input_pickle)\n",
    "    \n",
    "    database.append(new_pickle)\n",
    "    \n",
    "    with open(database_path,\"wb\") as outpickle:\n",
    "        pickle.dump(database,outpickle,protocol=pickle.HIGHEST_PROTOCOL)\n"
   ]
  },
  {
   "cell_type": "code",
   "execution_count": 48,
   "metadata": {},
   "outputs": [],
   "source": [
    "def append_images_to_database():\n",
    "    # moves file from source to target_dir and deletes files from source\n",
    "    folders = [\"wordcloud_images\",\"ChartExtraction_Output\",\"table_images\"]\n",
    "    new_report_folder = \"data/new_report/\"\n",
    "    database_folder = \"data/dashboard_data_interim/\"\n",
    "    \n",
    "    for folder in folders:\n",
    "        source_dir = new_report_folder + folder\n",
    "        target_dir = database_folder + folder\n",
    "\n",
    "        file_names = os.listdir(source_dir)\n",
    "        print(file_names)\n",
    "\n",
    "        for file_name in file_names:\n",
    "            shutil.move(os.path.join(source_dir, file_name), os.path.join(target_dir,file_name))"
   ]
  },
  {
   "cell_type": "code",
   "execution_count": 51,
   "metadata": {},
   "outputs": [],
   "source": [
    "def delete_intermediate_files():\n",
    "    directory = 'data/new_report/'\n",
    "    filelist = [ f for f in os.listdir(directory) if f.endswith(\".json\") ]\n",
    "    for f in filelist:\n",
    "        os.remove(os.path.join(mydir, f))"
   ]
  },
  {
   "cell_type": "code",
   "execution_count": 3,
   "metadata": {},
   "outputs": [],
   "source": [
    "all_text_output_path = 'data/new_report/Canada Pension2017_text_output_all.json'\n",
    "table_output_path = \"data/new_report/Canada Pension2017_text_output_all.json\"\n",
    "chart_output_path = \"data/new_report/Canada Pension2017_chart_output.json\"\n",
    "\n",
    "# combine all data into database\n",
    "all_json = [all_text_output_path,table_output_path,chart_output_path]\n",
    "final_output_path = combine_intermediate_json(all_json)\n",
    "append_json_to_database(final_output_path)\n",
    "append_pickle_to_database(table_output_pickle_path)\n",
    "append_images_to_database()"
   ]
  },
  {
   "cell_type": "code",
   "execution_count": 52,
   "metadata": {},
   "outputs": [],
   "source": [
    "class MyException(Exception):\n",
    "    pass"
   ]
  },
  {
   "cell_type": "code",
   "execution_count": 55,
   "metadata": {},
   "outputs": [
    {
     "name": "stdout",
     "output_type": "stream",
     "text": [
      "1\n"
     ]
    }
   ],
   "source": [
    "try:\n",
    "    raise MyException\n",
    "except ZeroDivisionError:\n",
    "    print(1)\n",
    "except MyException:\n",
    "    print(1)\n"
   ]
  },
  {
   "cell_type": "code",
   "execution_count": null,
   "metadata": {},
   "outputs": [],
   "source": []
  }
 ],
 "metadata": {
  "kernelspec": {
   "display_name": "Python 3",
   "language": "python",
   "name": "python3"
  },
  "language_info": {
   "codemirror_mode": {
    "name": "ipython",
    "version": 3
   },
   "file_extension": ".py",
   "mimetype": "text/x-python",
   "name": "python",
   "nbconvert_exporter": "python",
   "pygments_lexer": "ipython3",
   "version": "3.8.5"
  }
 },
 "nbformat": 4,
 "nbformat_minor": 4
}

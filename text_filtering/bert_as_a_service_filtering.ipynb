{
 "cells": [
  {
   "cell_type": "markdown",
   "metadata": {
    "id": "j4AbYWwPirPV"
   },
   "source": [
    "## Read in data"
   ]
  },
  {
   "cell_type": "code",
   "execution_count": 1,
   "metadata": {
    "colab": {
     "base_uri": "https://localhost:8080/"
    },
    "id": "4Xbp-Xa1hcbq",
    "outputId": "ac80a225-f89b-4c39-b659-9bbe47878913"
   },
   "outputs": [
    {
     "name": "stdout",
     "output_type": "stream",
     "text": [
      "Mounted at /content/gdrive\n"
     ]
    }
   ],
   "source": [
    "from google.colab import drive\n",
    "from scipy import spatial\n",
    "import seaborn as sns\n",
    "import pandas as pd\n",
    "import os\n",
    "import json\n",
    "\n",
    "drive.mount('/content/gdrive')"
   ]
  },
  {
   "cell_type": "code",
   "execution_count": 2,
   "metadata": {
    "id": "z7VqWBsChVNa"
   },
   "outputs": [],
   "source": [
    "data = \"/content/gdrive/MyDrive/Capstone/Data/pipeline_reports\"\n",
    "all_files = os.listdir(data)\n",
    "all_json = {}\n",
    "for file in all_files:\n",
    "    if \"vfinal\" in file:\n",
    "        with open(data + \"/\" + file,) as inputfile:\n",
    "            all_json[file] = json.load(inputfile)"
   ]
  },
  {
   "cell_type": "code",
   "execution_count": null,
   "metadata": {
    "id": "ubJ3RgLpJRXr"
   },
   "outputs": [],
   "source": [
    "#test\n",
    "all_json['all_asian_banks_preprocessed.json'][0][\"filtered_report_pages_direct\"]"
   ]
  },
  {
   "cell_type": "markdown",
   "metadata": {
    "id": "zS3BOOVXiu4M"
   },
   "source": [
    "## Preprocess Data for BERT Embeddings\n",
    "1. remove numbers --> SCRAPE BECAUSE THE WHOLE POINT IS TO BE ABLE TO CAPTURE NUMBERS???????\n",
    "2. remove punctuations except %,$,&\n",
    "- as numbers & punctations are encoded differently\n",
    "- upper/lower casing dont affect embeddings\n",
    "\n",
    "Json Fields Used : \n",
    "1. use *filtered_report_sentences_direct* & *filtered_report_sentences_indirect* keys to get page numbers of relevant pages and get the unprocesse sentences from *report_sentences*"
   ]
  },
  {
   "cell_type": "code",
   "execution_count": 3,
   "metadata": {
    "id": "fIenLl1bfjCd"
   },
   "outputs": [],
   "source": [
    "def remove_numbers(string):\n",
    "    return ''.join(i for i in string if not i.isdigit())\n",
    "\n",
    "def remove_punc(s):\n",
    "    import string\n",
    "    exclude = string.punctuation\n",
    "    final_punc = ''.join(list(i for i in exclude if i not in ['%', '$', '&']))\n",
    "    s = ''.join(ch for ch in s if ch not in list(final_punc))\n",
    "    return s\n"
   ]
  },
  {
   "cell_type": "code",
   "execution_count": null,
   "metadata": {
    "id": "HY0Dtou3h43q"
   },
   "outputs": [],
   "source": [
    "bert_json = {}\n",
    "for json_name,json in all_json.items():\n",
    "    fi_list = []\n",
    "    for fi in json:\n",
    "        fi_dict = {}\n",
    "        fi_direct_dict = {}\n",
    "        for page in fi[\"filtered_report_pages_direct\"].keys():\n",
    "            page = int(page)\n",
    "#           fi_direct_dict[page] = list(map(lambda x : remove_punc(x) ,list(map(lambda x : remove_numbers(x) ,fi[\"report_sentences\"][page-1]))))\n",
    "            fi_direct_dict[page] = list(map(lambda x : remove_punc(x) ,fi[\"report_sentences\"][page-1]))\n",
    "        fi_indirect_dict = {}\n",
    "        for page in fi[\"filtered_report_pages_indirect\"].keys():\n",
    "            page = int(page)\n",
    " #          fi_indirect_dict[page] = list(map(lambda x : remove_punc(x) ,list(map(lambda x : remove_numbers(x) ,fi[\"report_sentences\"][page-1]))))\n",
    "            fi_indirect_dict[page] =  list(map(lambda x : remove_punc(x) ,fi[\"report_sentences\"][page-1]))      \n",
    "        fi_dict[\"company\"] = fi[\"company\"] #identifier\n",
    "        fi_dict[\"year\"] = fi[\"year\"] #identifier\n",
    "        fi_dict[\"filtered_report_pages_direct_bert\"]  = fi_direct_dict\n",
    "        fi_dict[\"filtered_report_pages_indirect_bert\"]  = fi_indirect_dict\n",
    "        fi_list.append(fi_dict)\n",
    "    bert_json[json_name] = fi_list\n",
    "    \n",
    "    \n"
   ]
  },
  {
   "cell_type": "markdown",
   "metadata": {
    "id": "TMILMqNvrb04"
   },
   "source": [
    "### BERT embeddings\n",
    "\n",
    "Compare text similarity:\n",
    "- BERT embeddings + Cosine Similarity does the best\n",
    "\n",
    "\n",
    "Reference : https://medium.com/@adriensieg/text-similarities-da019229c894\n"
   ]
  },
  {
   "cell_type": "code",
   "execution_count": 4,
   "metadata": {
    "colab": {
     "base_uri": "https://localhost:8080/"
    },
    "id": "Vt-cwriBrKcU",
    "outputId": "862e119f-e9c7-4670-caad-3365c38f4ebb"
   },
   "outputs": [
    {
     "name": "stdout",
     "output_type": "stream",
     "text": [
      "TensorFlow 1.x selected.\n",
      "Collecting bert-serving-client\n",
      "  Downloading bert_serving_client-1.10.0-py2.py3-none-any.whl (28 kB)\n",
      "Requirement already satisfied: pyzmq>=17.1.0 in /usr/local/lib/python3.7/dist-packages (from bert-serving-client) (22.3.0)\n",
      "Requirement already satisfied: numpy in /usr/local/lib/python3.7/dist-packages (from bert-serving-client) (1.19.5)\n",
      "Installing collected packages: bert-serving-client\n",
      "Successfully installed bert-serving-client-1.10.0\n",
      "Collecting bert-serving-server[http]\n",
      "  Downloading bert_serving_server-1.10.0-py3-none-any.whl (61 kB)\n",
      "\u001b[K     |████████████████████████████████| 61 kB 216 kB/s \n",
      "\u001b[?25hRequirement already satisfied: numpy in /usr/local/lib/python3.7/dist-packages (from bert-serving-server[http]) (1.19.5)\n",
      "Requirement already satisfied: termcolor>=1.1 in /usr/local/lib/python3.7/dist-packages (from bert-serving-server[http]) (1.1.0)\n",
      "Requirement already satisfied: pyzmq>=17.1.0 in /usr/local/lib/python3.7/dist-packages (from bert-serving-server[http]) (22.3.0)\n",
      "Requirement already satisfied: six in /usr/local/lib/python3.7/dist-packages (from bert-serving-server[http]) (1.15.0)\n",
      "Collecting GPUtil>=1.3.0\n",
      "  Downloading GPUtil-1.4.0.tar.gz (5.5 kB)\n",
      "Requirement already satisfied: flask in /usr/local/lib/python3.7/dist-packages (from bert-serving-server[http]) (1.1.4)\n",
      "Collecting flask-cors\n",
      "  Downloading Flask_Cors-3.0.10-py2.py3-none-any.whl (14 kB)\n",
      "Collecting flask-compress\n",
      "  Downloading Flask_Compress-1.10.1-py3-none-any.whl (7.9 kB)\n",
      "Collecting flask-json\n",
      "  Downloading Flask_JSON-0.3.4-py3-none-any.whl (9.0 kB)\n",
      "Requirement already satisfied: bert-serving-client in /usr/local/lib/python3.7/dist-packages (from bert-serving-server[http]) (1.10.0)\n",
      "Requirement already satisfied: Werkzeug<2.0,>=0.15 in /usr/local/lib/python3.7/dist-packages (from flask->bert-serving-server[http]) (1.0.1)\n",
      "Requirement already satisfied: click<8.0,>=5.1 in /usr/local/lib/python3.7/dist-packages (from flask->bert-serving-server[http]) (7.1.2)\n",
      "Requirement already satisfied: itsdangerous<2.0,>=0.24 in /usr/local/lib/python3.7/dist-packages (from flask->bert-serving-server[http]) (1.1.0)\n",
      "Requirement already satisfied: Jinja2<3.0,>=2.10.1 in /usr/local/lib/python3.7/dist-packages (from flask->bert-serving-server[http]) (2.11.3)\n",
      "Requirement already satisfied: MarkupSafe>=0.23 in /usr/local/lib/python3.7/dist-packages (from Jinja2<3.0,>=2.10.1->flask->bert-serving-server[http]) (2.0.1)\n",
      "Collecting brotli\n",
      "  Downloading Brotli-1.0.9-cp37-cp37m-manylinux1_x86_64.whl (357 kB)\n",
      "\u001b[K     |████████████████████████████████| 357 kB 11.3 MB/s \n",
      "\u001b[?25hBuilding wheels for collected packages: GPUtil\n",
      "  Building wheel for GPUtil (setup.py) ... \u001b[?25l\u001b[?25hdone\n",
      "  Created wheel for GPUtil: filename=GPUtil-1.4.0-py3-none-any.whl size=7411 sha256=7f5e7c8b704528512868ec15b1ab5ad79d266aa0b4fdd46f1b603e28ab92ba7c\n",
      "  Stored in directory: /root/.cache/pip/wheels/6e/f8/83/534c52482d6da64622ddbf72cd93c35d2ef2881b78fd08ff0c\n",
      "Successfully built GPUtil\n",
      "Installing collected packages: GPUtil, brotli, flask-json, flask-cors, flask-compress, bert-serving-server\n",
      "Successfully installed GPUtil-1.4.0 bert-serving-server-1.10.0 brotli-1.0.9 flask-compress-1.10.1 flask-cors-3.0.10 flask-json-0.3.4\n",
      "--2021-11-01 19:03:50--  https://storage.googleapis.com/bert_models/2018_10_18/uncased_L-12_H-768_A-12.zip\n",
      "Resolving storage.googleapis.com (storage.googleapis.com)... 173.194.193.128, 173.194.194.128, 173.194.195.128, ...\n",
      "Connecting to storage.googleapis.com (storage.googleapis.com)|173.194.193.128|:443... connected.\n",
      "HTTP request sent, awaiting response... 200 OK\n",
      "Length: 407727028 (389M) [application/zip]\n",
      "Saving to: ‘uncased_L-12_H-768_A-12.zip’\n",
      "\n",
      "uncased_L-12_H-768_ 100%[===================>] 388.84M   169MB/s    in 2.3s    \n",
      "\n",
      "2021-11-01 19:03:52 (169 MB/s) - ‘uncased_L-12_H-768_A-12.zip’ saved [407727028/407727028]\n",
      "\n",
      "Archive:  uncased_L-12_H-768_A-12.zip\n",
      "   creating: uncased_L-12_H-768_A-12/\n",
      "  inflating: uncased_L-12_H-768_A-12/bert_model.ckpt.meta  \n",
      "  inflating: uncased_L-12_H-768_A-12/bert_model.ckpt.data-00000-of-00001  \n",
      "  inflating: uncased_L-12_H-768_A-12/vocab.txt  \n",
      "  inflating: uncased_L-12_H-768_A-12/bert_model.ckpt.index  \n",
      "  inflating: uncased_L-12_H-768_A-12/bert_config.json  \n",
      "gdrive\t  sample_data\t\t   uncased_L-12_H-768_A-12.zip\n",
      "out.file  uncased_L-12_H-768_A-12\n"
     ]
    }
   ],
   "source": [
    "%tensorflow_version 1.x\n",
    "\n",
    "!pip install bert-serving-client\n",
    "!pip install -U bert-serving-server[http]\n",
    "\n",
    "!wget https://storage.googleapis.com/bert_models/2018_10_18/uncased_L-12_H-768_A-12.zip\n",
    "!unzip uncased_L-12_H-768_A-12.zip\n",
    "!nohup bert-serving-start -model_dir=./uncased_L-12_H-768_A-12 > out.file 2>&1 &\n",
    "\n",
    "\n",
    "!ls  # you should see uncased_something_.zip\n",
    "\n"
   ]
  },
  {
   "cell_type": "code",
   "execution_count": 5,
   "metadata": {
    "colab": {
     "base_uri": "https://localhost:8080/"
    },
    "id": "ynej_mzAtd6a",
    "outputId": "9ba75c1a-a710-4bab-8016-e84b4b58c023"
   },
   "outputs": [
    {
     "name": "stdout",
     "output_type": "stream",
     "text": [
      "[[-0.10375775 -0.41058773  0.6212927  ... -0.29355988  0.26888955\n",
      "   0.14812963]\n",
      " [ 0.76116025 -0.06709035  0.07512389 ... -0.04068742  0.14368583\n",
      "   0.19906425]\n",
      " [-0.06862521  0.08689015  0.13055946 ... -0.22566105  0.22352234\n",
      "  -0.00201502]\n",
      " ...\n",
      " [-0.15848124 -0.2721892  -0.12754104 ... -0.069576   -0.19471477\n",
      "   0.15317261]\n",
      " [-0.02237912 -0.6119282  -0.27465814 ... -0.12987773 -0.4983658\n",
      "  -0.05472057]\n",
      " [ 0.10988103 -0.53783214  0.6870812  ... -0.6287739   0.19253941\n",
      "  -0.21154976]]\n"
     ]
    }
   ],
   "source": [
    "from bert_serving.client import BertClient\n",
    "bc = BertClient(check_length=False)\n",
    "\n",
    "relevant_sentences = ['In 2019, Citi financed $74 million of subordinate lien bonds that were certified green, given the projects environmental aspects.', \n",
    "             'In addition, our cogeneration plant, fueled by natural gas, will produce heat and electricity on-site, reducing the building\\'s carbon footprint by 34 percent.',\n",
    "             'These efforts reduced energy consumption by more than 2,100 metric tons (mt) of carbon dioxide equivalents (CO2e) during the one-year challenge.',\n",
    "             'The companies in our equity portfolio emitted around 133 tonnes of CO2 -equivalents for every million US dollars of revenue.', \n",
    "             'The equity portfolio’s carbon intensity was 9 percent below that of the benchmark index.',\n",
    "             'A total of 106 companies that produce certain types of weapon, tobacco or coal, or use coal for power production, are currently excluded from the fund', \n",
    "             'For public and private assets, excluding cash and non-equity derivatives as they were not reported in 2019, our year-overyear portfolio weighted average carbon intensity was reduced by approximately 23%.',\n",
    "             'Having met these targets, we have set new, more ambitious ones: to reduce the Fund’s emissions intensity by 40% and fossil fuel reserves by 80% by 2025.',\n",
    "             'The carbon footprint of the non-listed companies was 0.6 tCO₂e per million SEK invested',\n",
    "             'Energy consumption and carbon emissions per unit area were 149 kWh/ m² and 0.037 tCO₂e/m², which means a reduction of 9 per cent and 12 per cent, respectively.',\n",
    "             'The carbon intensity (CO2 equivalent tons per million yen of sales) of GPIF’s equity and corporate bond portfolio decreased by 15.3%, from 2.29 tons to 1.94 tons, in the space of a year.'\n",
    "             'Based on our percentage holdings in each company, the total emissions of the equity portfolio were 108 million tonnes of CO2 - equivalents in 2019.',\n",
    "             'The carbon footprint of the companies in our equity portfolio',\n",
    "             'The companies in our equity portfolio emitted around 156 tonnes of CO2 -equivalents for every million US dollars (USD) of revenue.'\n",
    "             'The carbon intensity of the companies in the equity portfolio and the benchmark index decreased by 16 and 17 percent respectively from 2018 to 2019.',\n",
    "             'We are focused on supporting the goal of net zero greenhouse gas emissions by 2050, in line with global efforts to limit warming to 1.5°C. ',\n",
    "             'quantitative target for ESG-themed investments and finance of ¥700 billion ',\n",
    "             'Commit to reduce investment carbon footprint by',\n",
    "             'esg investing', 'green bonds', 'Green Investment target', 'Achieve 100% renewable electricity by 2025'\n",
    "             ]\n",
    "relevant_sentences_embeddings = bc.encode(relevant_sentences)\n",
    "\n",
    "print(relevant_sentences_embeddings)"
   ]
  },
  {
   "cell_type": "code",
   "execution_count": null,
   "metadata": {
    "id": "bJuixdO_N0zl"
   },
   "outputs": [],
   "source": [
    "def cosine_distance(s1,s2):\n",
    "    return 1 - spatial.distance.cosine(s1, s2)"
   ]
  },
  {
   "cell_type": "code",
   "execution_count": null,
   "metadata": {
    "id": "nXeNZzh6tl_l"
   },
   "outputs": [],
   "source": [
    "all_cosine_similarities_ = [] # all combinations of cosine similarity\n",
    "all_filtered_sentences = []"
   ]
  },
  {
   "cell_type": "code",
   "execution_count": null,
   "metadata": {
    "id": "BEB-0Vc2qgzo"
   },
   "outputs": [],
   "source": [
    "all_relevant_sentences = []\n",
    "for json_name,json in bert_json.items():\n",
    "    fi_list = []\n",
    "    for fi_index in range(len(json))[:10]: #change\n",
    "        fi = json[fi_index]\n",
    "        page_relevant_sentences = {}\n",
    "        page_relevant_sentences_original = {}\n",
    "        for page_number, page in fi[\"filtered_report_pages_direct_bert\"].items():\n",
    "            relevant_sentences = []\n",
    "            relevant_sentences_original = []\n",
    "            for sentence_index in range(len(page)):\n",
    "                original_sentence = all_json[json_name][fi_index][\"report_sentences\"][page_number-1][sentence_index]\n",
    "                all_filtered_sentences.append(original_sentence)\n",
    "                sentence = page[sentence_index]\n",
    "                sentence_encoding = bc.encode([sentence])[0]\n",
    "                for relevant_sentence in relevant_sentences_embeddings:\n",
    "                    cosine_similarity = cosine_distance(sentence_encoding,relevant_sentence)\n",
    "                    all_cosine_similarities.append(cosine_similarity)\n",
    "                    if cosine_similarity >= 0.8 : # tentative\n",
    "                        relevant_sentences.append([sentence,cosine_similarity])\n",
    "                        relevant_sentences_original.append(original_sentence)\n",
    "                        all_relevant_sentences.append(original_sentence)\n",
    "                        break\n",
    "            if len(relevant_sentences) != 0 :\n",
    "                page_relevant_sentences[page_number] = relevant_sentences\n",
    "                page_relevant_sentences_original[page_number] = relevant_sentences_original\n",
    "        bert_json[json_name][fi_index][\"bert_relevant_sentences_direct\"] = page_relevant_sentences\n",
    "        bert_json[json_name][fi_index][\"bert_relevant_sentences_direct_original\"] = page_relevant_sentences_original\n",
    "\n",
    "\n",
    "        page_relevant_sentences_indirect = {}\n",
    "        page_relevant_sentences_indirect_original = {}\n",
    "        for page_number, page in fi[\"filtered_report_pages_indirect_bert\"].items():\n",
    "            relevant_sentences = []\n",
    "            relevant_sentences_original = []\n",
    "            for sentence_index in range(len(page)):\n",
    "                original_sentence = all_json[json_name][fi_index][\"report_sentences\"][page_number-1][sentence_index]\n",
    "                all_filtered_sentences.append(original_sentence)\n",
    "                sentence = page[sentence_index]\n",
    "                sentence_encoding = bc.encode([sentence])[0]\n",
    "                for relevant_sentence in relevant_sentences_embeddings:\n",
    "                    cosine_similarity = cosine_distance(sentence_encoding,relevant_sentence)\n",
    "                    all_cosine_similarities.append(cosine_similarity)\n",
    "                    if cosine_similarity >= 0.7357 : # tentative maybe must b smilar to most terms?\n",
    "                        relevant_sentences.append([sentence,cosine_similarity])\n",
    "                        relevant_sentences_original.append(original_sentence)\n",
    "                        all_relevant_sentences.append(original_sentence)\n",
    "                        break\n",
    "            if len(relevant_sentences) != 0 :\n",
    "                page_relevant_sentences_indirect[page_number] = relevant_sentences\n",
    "                page_relevant_sentences_indirect_original[page_number] = relevant_sentences_original\n",
    "        bert_json[json_name][fi_index][\"bert_relevant_sentences_indirect\"] = page_relevant_sentences_indirect\n",
    "        bert_json[json_name][fi_index][\"bert_relevant_sentences_indirect_original\"] = page_relevant_sentences_indirect_original\n",
    "\n",
    "                "
   ]
  },
  {
   "cell_type": "code",
   "execution_count": null,
   "metadata": {
    "colab": {
     "base_uri": "https://localhost:8080/",
     "height": 549
    },
    "id": "t0AkjdoAq0gx",
    "outputId": "d1db2d5f-11c9-4b21-c9fe-a8a6103596c0"
   },
   "outputs": [
    {
     "data": {
      "text/html": [
       "<div>\n",
       "<style scoped>\n",
       "    .dataframe tbody tr th:only-of-type {\n",
       "        vertical-align: middle;\n",
       "    }\n",
       "\n",
       "    .dataframe tbody tr th {\n",
       "        vertical-align: top;\n",
       "    }\n",
       "\n",
       "    .dataframe thead th {\n",
       "        text-align: right;\n",
       "    }\n",
       "</style>\n",
       "<table border=\"1\" class=\"dataframe\">\n",
       "  <thead>\n",
       "    <tr style=\"text-align: right;\">\n",
       "      <th></th>\n",
       "      <th>cos_similarity</th>\n",
       "    </tr>\n",
       "  </thead>\n",
       "  <tbody>\n",
       "    <tr>\n",
       "      <th>count</th>\n",
       "      <td>249264.000000</td>\n",
       "    </tr>\n",
       "    <tr>\n",
       "      <th>mean</th>\n",
       "      <td>0.681896</td>\n",
       "    </tr>\n",
       "    <tr>\n",
       "      <th>std</th>\n",
       "      <td>0.079136</td>\n",
       "    </tr>\n",
       "    <tr>\n",
       "      <th>min</th>\n",
       "      <td>0.206599</td>\n",
       "    </tr>\n",
       "    <tr>\n",
       "      <th>25%</th>\n",
       "      <td>0.641717</td>\n",
       "    </tr>\n",
       "    <tr>\n",
       "      <th>50%</th>\n",
       "      <td>0.693079</td>\n",
       "    </tr>\n",
       "    <tr>\n",
       "      <th>75%</th>\n",
       "      <td>0.735703</td>\n",
       "    </tr>\n",
       "    <tr>\n",
       "      <th>max</th>\n",
       "      <td>1.000000</td>\n",
       "    </tr>\n",
       "  </tbody>\n",
       "</table>\n",
       "</div>"
      ],
      "text/plain": [
       "       cos_similarity\n",
       "count   249264.000000\n",
       "mean         0.681896\n",
       "std          0.079136\n",
       "min          0.206599\n",
       "25%          0.641717\n",
       "50%          0.693079\n",
       "75%          0.735703\n",
       "max          1.000000"
      ]
     },
     "execution_count": 43,
     "metadata": {},
     "output_type": "execute_result"
    },
    {
     "data": {
      "image/png": "[encoded data removed]",
      "text/plain": [
       "<Figure size 432x288 with 1 Axes>"
      ]
     },
     "metadata": {
      "needs_background": "light"
     },
     "output_type": "display_data"
    }
   ],
   "source": [
    "# to determine threshold\n",
    "sns.histplot(all_cosine_similarities)\n",
    "pd.DataFrame(all_cosine_similarities,columns=[\"cos_similarity\"]).describe()"
   ]
  },
  {
   "cell_type": "code",
   "execution_count": null,
   "metadata": {
    "colab": {
     "base_uri": "https://localhost:8080/"
    },
    "id": "7UQDNeNhvFwG",
    "outputId": "0c89dbee-c5ec-46ab-a684-f2d0ff23f7f2"
   },
   "outputs": [
    {
     "name": "stdout",
     "output_type": "stream",
     "text": [
      "18465\n",
      "8470\n"
     ]
    }
   ],
   "source": [
    "print(len(all_filtered_sentences))\n",
    "print(len(all_relevant_sentences))"
   ]
  },
  {
   "cell_type": "markdown",
   "metadata": {
    "id": "jlvc_lae23Vw"
   },
   "source": [
    "### Splitting Data for labelling"
   ]
  },
  {
   "cell_type": "code",
   "execution_count": null,
   "metadata": {
    "colab": {
     "base_uri": "https://localhost:8080/"
    },
    "id": "cupog-ckyYG6",
    "outputId": "e1548519-658a-4849-ba62-6046b1e895c5"
   },
   "outputs": [
    {
     "name": "stdout",
     "output_type": "stream",
     "text": [
      "(6776, 1)\n",
      "(5082, 1)\n"
     ]
    }
   ],
   "source": [
    "# all_filtered_sentences_df = pd.DataFrame(all_filtered_sentences,columns=[\"filtered_sentences\"])\n",
    "# n = all_filtered_sentences_df.shape[0]//5\n",
    "# split_1 = all_filtered_sentences_df.sample(n=n,random_state=200) #random state is a seed value\n",
    "# test = all_filtered_sentences_df.drop(split_1.index)\n",
    "# split_2 = test.sample(n=n,random_state=200)\n",
    "# test = test.drop(split_2.index)\n",
    "# split_3 = test.sample(n=n,random_state=200) \n",
    "# test = test.drop(split_3.index)\n",
    "# split_4 = test.sample(n=n,random_state=200) \n",
    "# test = test.drop(split_4.index)\n",
    "# split_5 = test\n",
    " \n",
    "data = \"/content/gdrive/MyDrive/Capstone/Data/to_label\"\n",
    "all_relevant_sentences_df = pd.DataFrame(all_relevant_sentences,columns=[\"relevant_sentences\"])\n",
    "n = all_relevant_sentences_df.shape[0]//5\n",
    "split_1 = all_relevant_sentences_df.sample(n=n,random_state=200)\n",
    "split_1.to_csv(data + \"/split_1.csv\")\n",
    "test = all_relevant_sentences_df.drop(split_1.index)\n",
    "print(test.shape)\n",
    "split_2 = test.sample(n=n,random_state=200)\n",
    "split_2.to_csv(data + \"/split_2.csv\")\n",
    "test = test.drop(split_2.index)\n",
    "print(test.shape)\n",
    "split_3 = test.sample(n=n,random_state=200)\n",
    "split_3.to_csv(data + \"/split_3.csv\")\n",
    "test = test.drop(split_3.index)\n",
    "split_4 = test.sample(n=n,random_state=200)\n",
    "split_4.to_csv(data + \"/split_4.csv\")\n",
    "test = test.drop(split_4.index)\n",
    "split_5 = test\n",
    "split_5.to_csv(data + \"/split_5.csv\")\n"
   ]
  },
  {
   "cell_type": "markdown",
   "metadata": {
    "id": "6VSezqHGdJqz"
   },
   "source": [
    "# Pipeline"
   ]
  },
  {
   "cell_type": "code",
   "execution_count": null,
   "metadata": {
    "id": "iBO195fMhtsF"
   },
   "outputs": [],
   "source": [
    "from google.colab import drive\n",
    "from scipy import spatial\n",
    "import seaborn as sns\n",
    "import pandas as pd\n",
    "import os\n",
    "import json\n",
    "import numpy\n",
    "\n",
    "\n",
    "# drive.mount('/content/gdrive')"
   ]
  },
  {
   "cell_type": "code",
   "execution_count": 2,
   "metadata": {
    "id": "BQamHPqgfhGJ"
   },
   "outputs": [],
   "source": [
    "# helper functions\n",
    "def remove_punc(s):\n",
    "    import string\n",
    "    exclude = string.punctuation\n",
    "    final_punc = ''.join(list(i for i in exclude if i not in ['%', '$', '&']))\n",
    "    s = ''.join(ch for ch in s if ch not in list(final_punc))\n",
    "    return s\n",
    "\n",
    "def cosine_distance(s1,s2):\n",
    "    return 1 - spatial.distance.cosine(s1, s2)"
   ]
  },
  {
   "cell_type": "code",
   "execution_count": null,
   "metadata": {
    "id": "YgB2qopIeO9S"
   },
   "outputs": [],
   "source": [
    "# bert as a service\n",
    "%tensorflow_version 1.x\n",
    "\n",
    "!pip install bert-serving-client\n",
    "!pip install -U bert-serving-server[http]\n",
    "\n",
    "!wget https://storage.googleapis.com/bert_models/2018_10_18/uncased_L-12_H-768_A-12.zip\n",
    "!unzip uncased_L-12_H-768_A-12.zip\n",
    "!nohup bert-serving-start -model_dir=./uncased_L-12_H-768_A-12 > out.file 2>&1 &\n",
    "\n",
    "\n",
    "!ls  # you should see uncased_something_.zip\n"
   ]
  },
  {
   "cell_type": "code",
   "execution_count": null,
   "metadata": {
    "id": "WgSC1qbPYs4A"
   },
   "outputs": [],
   "source": [
    "# from bert_serving.client import BertClient\n",
    "# import numpy\n",
    "# bc = BertClient(check_length=False)\n",
    "\n",
    "def create_bert_embeddings(jsonfile):\n",
    "  if jsonfile[\"bert_relevant_sentences_direct_original\"] != {}:\n",
    "    embeddings_dict = {}\n",
    "    for page,sentences in jsonfile[\"bert_relevant_sentences_direct_original\"].items():\n",
    "      embeddings_dict[page] = []\n",
    "      for sentence in sentences:\n",
    "        sentence_encoding = list(bc.encode([sentence])[0])       \n",
    "        embeddings_dict[page].append(list(map(lambda x: numpy.float64(x),sentence_encoding)))\n",
    "    jsonfile[\"bert_relevant_sentences_direct_original_embeddings\"] = embeddings_dict\n",
    "  else:\n",
    "    jsonfile[\"bert_relevant_sentences_direct_original_embeddings\"] = {}\n",
    "\n",
    "  if jsonfile[\"bert_relevant_sentences_indirect_original\"] != {}:\n",
    "    embeddings_dict = {}\n",
    "    for page,sentences in jsonfile[\"bert_relevant_sentences_indirect_original\"].items():\n",
    "      embeddings_dict[page] = []\n",
    "      for sentence in sentences:\n",
    "        sentence_encoding = list(bc.encode([sentence])[0])       \n",
    "        embeddings_dict[page].append(list(map(lambda x: numpy.float64(x),sentence_encoding)))\n",
    "    jsonfile[\"bert_relevant_sentences_indirect_original_embeddings\"] = embeddings_dict\n",
    "  else:\n",
    "    jsonfile[\"bert_relevant_sentences_indirect_original_embeddings\"] = {}\n",
    "  return jsonfile"
   ]
  },
  {
   "cell_type": "code",
   "execution_count": 31,
   "metadata": {
    "id": "IXExAH7Gy0lw"
   },
   "outputs": [],
   "source": [
    "# to process 1 json\n",
    "def bert_filtering(file_path):\n",
    "    with open(file_path,) as inputfile:\n",
    "        json_file = json.load(inputfile)\n",
    "        json_file = [json_file]\n",
    "    fi_list = []\n",
    "    #step 1\n",
    "    for fi in json_file:\n",
    "        fi_dict = {}\n",
    "        fi_direct_dict = {}\n",
    "        for page in fi[\"filtered_report_pages_direct\"].keys():\n",
    "            page = int(page)\n",
    "            fi_direct_dict[page] = list(map(lambda x : remove_punc(x) ,fi[\"report_sentences\"][page-1]))\n",
    "        fi_indirect_dict = {}\n",
    "        for page in fi[\"filtered_report_pages_indirect\"].keys():\n",
    "            page = int(page)\n",
    "            fi_indirect_dict[page] =  list(map(lambda x : remove_punc(x) ,fi[\"report_sentences\"][page-1]))      \n",
    "        fi_dict[\"company\"] = fi[\"company\"] #identifier\n",
    "        fi_dict[\"year\"] = fi[\"year\"] #identifier\n",
    "        fi_dict[\"url\"] = fi[\"url\"]\n",
    "        fi_dict[\"filtered_report_pages_direct_bert\"]  = fi_direct_dict\n",
    "        fi_dict[\"filtered_report_pages_indirect_bert\"]  = fi_indirect_dict\n",
    "        fi_list.append(fi_dict)\n",
    "        \n",
    "    # insttantiate BERT\n",
    "    from bert_serving.client import BertClient\n",
    "    bc = BertClient(check_length=False)\n",
    "\n",
    "    relevant_sentences = ['In 2019, Citi financed $74 million of subordinate lien bonds that were certified green, given the projects environmental aspects.', \n",
    "                'In addition, our cogeneration plant, fueled by natural gas, will produce heat and electricity on-site, reducing the building\\'s carbon footprint by 34 percent.',\n",
    "                'These efforts reduced energy consumption by more than 2,100 metric tons (mt) of carbon dioxide equivalents (CO2e) during the one-year challenge.',\n",
    "                'The companies in our equity portfolio emitted around 133 tonnes of CO2 -equivalents for every million US dollars of revenue.', \n",
    "                'The equity portfolio’s carbon intensity was 9 percent below that of the benchmark index.',\n",
    "                'A total of 106 companies that produce certain types of weapon, tobacco or coal, or use coal for power production, are currently excluded from the fund', \n",
    "                'For public and private assets, excluding cash and non-equity derivatives as they were not reported in 2019, our year-overyear portfolio weighted average carbon intensity was reduced by approximately 23%.',\n",
    "                'Having met these targets, we have set new, more ambitious ones: to reduce the Fund’s emissions intensity by 40% and fossil fuel reserves by 80% by 2025.',\n",
    "                'The carbon footprint of the non-listed companies was 0.6 tCO₂e per million SEK invested',\n",
    "                'Energy consumption and carbon emissions per unit area were 149 kWh/ m² and 0.037 tCO₂e/m², which means a reduction of 9 per cent and 12 per cent, respectively.',\n",
    "                'The carbon intensity (CO2 equivalent tons per million yen of sales) of GPIF’s equity and corporate bond portfolio decreased by 15.3%, from 2.29 tons to 1.94 tons, in the space of a year.'\n",
    "                'Based on our percentage holdings in each company, the total emissions of the equity portfolio were 108 million tonnes of CO2 - equivalents in 2019.',\n",
    "                'The carbon footprint of the companies in our equity portfolio',\n",
    "                'The companies in our equity portfolio emitted around 156 tonnes of CO2 -equivalents for every million US dollars (USD) of revenue.'\n",
    "                'The carbon intensity of the companies in the equity portfolio and the benchmark index decreased by 16 and 17 percent respectively from 2018 to 2019.',\n",
    "                'We are focused on supporting the goal of net zero greenhouse gas emissions by 2050, in line with global efforts to limit warming to 1.5°C. ',\n",
    "                'quantitative target for ESG-themed investments and finance of ¥700 billion ',\n",
    "                'Commit to reduce investment carbon footprint by',\n",
    "                'esg investing', 'green bonds', 'Green Investment target', 'Achieve 100% renewable electricity by 2025']\n",
    "    relevant_sentences_embeddings = bc.encode(relevant_sentences)\n",
    "\n",
    "    #step 2\n",
    "    json_list = fi_list\n",
    "    for fi_index in range(len(json_list)): #remove\n",
    "        fi = json_list[fi_index]\n",
    "        page_relevant_sentences = {}\n",
    "        page_relevant_sentences_original = {}\n",
    "        for page_number, page in fi[\"filtered_report_pages_direct_bert\"].items():\n",
    "            relevant_sentences = []\n",
    "            relevant_sentences_original = []\n",
    "            for sentence_index in range(len(page)):\n",
    "                original_sentence = json_file[fi_index][\"report_sentences\"][page_number-1][sentence_index]\n",
    "                sentence = page[sentence_index]\n",
    "                sentence_encoding = bc.encode([sentence])[0]\n",
    "                for relevant_sentence in relevant_sentences_embeddings:\n",
    "                    cosine_similarity = cosine_distance(sentence_encoding,relevant_sentence)\n",
    "                    if cosine_similarity >= 0.8 : # tentative\n",
    "                        relevant_sentences.append(sentence)\n",
    "                        relevant_sentences_original.append(original_sentence)\n",
    "                        break\n",
    "            if len(relevant_sentences) != 0 :\n",
    "                page_relevant_sentences[page_number] = relevant_sentences\n",
    "                page_relevant_sentences_original[page_number] = relevant_sentences_original\n",
    "        #json_list[fi_index][\"bert_relevant_sentences_direct\"] = page_relevant_sentences\n",
    "                #print(len(relevant_sentences))\n",
    "        json_list[fi_index][\"bert_relevant_sentences_direct_original\"] = page_relevant_sentences_original # sentences used to train\n",
    "\n",
    "\n",
    "        page_relevant_sentences_indirect = {}\n",
    "        page_relevant_sentences_indirect_original = {}\n",
    "        for page_number, page in fi[\"filtered_report_pages_indirect_bert\"].items():\n",
    "            relevant_sentences = []\n",
    "            relevant_sentences_original = []\n",
    "            for sentence_index in range(len(page)):\n",
    "                original_sentence = json_file[fi_index][\"report_sentences\"][page_number-1][sentence_index]\n",
    "                sentence = page[sentence_index]\n",
    "                sentence_encoding = bc.encode([sentence])[0]\n",
    "                for relevant_sentence in relevant_sentences_embeddings:\n",
    "                    cosine_similarity = cosine_distance(sentence_encoding,relevant_sentence)\n",
    "                    if cosine_similarity >= 0.7357 : # tentative maybe must b smilar to most terms?\n",
    "                        relevant_sentences.append(sentence)\n",
    "                        relevant_sentences_original.append(original_sentence)\n",
    "                        break\n",
    "            if len(relevant_sentences) != 0 :\n",
    "                page_relevant_sentences_indirect[page_number] = relevant_sentences\n",
    "                page_relevant_sentences_indirect_original[page_number] = relevant_sentences_original\n",
    "                #print(len(relevant_sentences))\n",
    "        #json_list[fi_index][\"bert_relevant_sentences_indirect\"] = page_relevant_sentences_indirect\n",
    "        json_list[fi_index][\"bert_relevant_sentences_indirect_original\"] = page_relevant_sentences_indirect_original # sentences used to train\n",
    "        \n",
    "\n",
    "    #step 3 create embeddings\n",
    "    final_json_embeddings = create_bert_embeddings(json_list[0])\n",
    "    output_path = file_path[:-5] + \"_BERT_embeddings.json\"\n",
    "    \n",
    "\n",
    "    with open(output_path, \"w\") as outfile:  \n",
    "        json.dump(final_json_embeddings, outfile)\n",
    "\n",
    "    return output_path\n",
    "\n",
    "\n"
   ]
  },
  {
   "cell_type": "code",
   "execution_count": 33,
   "metadata": {
    "id": "ZsM3CPGVdEMF"
   },
   "outputs": [],
   "source": [
    "DATA_FOLDER = \"/content/gdrive/MyDrive/Capstone/Data/pipeline_reports/\"\n",
    "all_files = os.listdir(DATA_FOLDER)\n",
    "for file in all_files:\n",
    "    file_path = DATA_FOLDER + file\n",
    "    # output_name = DATA_FOLDER + file[:-5] + \"_BERT_embeddings.json\"\n",
    "    output_path = bert_filtering(file_path)\n"
   ]
  },
  {
   "cell_type": "markdown",
   "metadata": {
    "id": "tGQZ1ENAa4dU"
   },
   "source": [
    "Create embeddings json"
   ]
  },
  {
   "cell_type": "code",
   "execution_count": 27,
   "metadata": {
    "id": "fvFzpveqgMb_"
   },
   "outputs": [],
   "source": [
    "# from bert_serving.client import BertClient\n",
    "# import numpy\n",
    "# bc = BertClient(check_length=False)\n",
    "\n",
    "def create_bert_embeddings(jsonfile):\n",
    "  if jsonfile[\"bert_relevant_sentences_direct_original\"] != {}:\n",
    "    embeddings_dict = {}\n",
    "    for page,sentences in jsonfile[\"bert_relevant_sentences_direct_original\"].items():\n",
    "      embeddings_dict[page] = []\n",
    "      for sentence in sentences:\n",
    "        sentence_encoding = list(bc.encode([sentence])[0])       \n",
    "        embeddings_dict[page].append(list(map(lambda x: numpy.float64(x),sentence_encoding)))\n",
    "    jsonfile[\"bert_relevant_sentences_direct_original_embeddings\"] = embeddings_dict\n",
    "  else:\n",
    "    jsonfile[\"bert_relevant_sentences_direct_original_embeddings\"] = {}\n",
    "\n",
    "  if jsonfile[\"bert_relevant_sentences_indirect_original\"] != {}:\n",
    "    embeddings_dict = {}\n",
    "    for page,sentences in jsonfile[\"bert_relevant_sentences_indirect_original\"].items():\n",
    "      embeddings_dict[page] = []\n",
    "      for sentence in sentences:\n",
    "        sentence_encoding = list(bc.encode([sentence])[0])       \n",
    "        embeddings_dict[page].append(list(map(lambda x: numpy.float64(x),sentence_encoding)))\n",
    "    jsonfile[\"bert_relevant_sentences_indirect_original_embeddings\"] = embeddings_dict\n",
    "  else:\n",
    "    jsonfile[\"bert_relevant_sentences_indirect_original_embeddings\"] = {}\n",
    "  return jsonfile"
   ]
  },
  {
   "cell_type": "code",
   "execution_count": 30,
   "metadata": {
    "id": "pHuYcS07gMcP"
   },
   "outputs": [],
   "source": [
    "import numpy\n",
    "\n",
    "file_path = \"/content/gdrive/MyDrive/Capstone/Data/pipeline_reports/Canada Pension2017_BERT.json\"\n",
    "with open(file_path,) as inputfile:\n",
    "    json_file = json.load(inputfile)\n",
    "\n",
    "json_file_embeddings = []\n",
    "for fi in json_file:\n",
    "  json_file_embeddings.append(create_bert_embeddings(fi))\n",
    "\n",
    "output_name = file_path = DATA_FOLDER + \"all_vfinal_BERT_embeddings.json\"\n",
    "with open(output_name, \"w\") as outfile:  \n",
    "    json.dump(json_file_embeddings, outfile)\n"
   ]
  },
  {
   "cell_type": "code",
   "execution_count": 12,
   "metadata": {
    "colab": {
     "base_uri": "https://localhost:8080/"
    },
    "id": "uE_PY2mfpzzH",
    "outputId": "81da44ac-7400-4c6e-9762-7d81327c3fd7"
   },
   "outputs": [
    {
     "data": {
      "text/plain": [
       "dict_keys(['company', 'year', 'filtered_report_pages_direct_bert', 'filtered_report_pages_indirect_bert', 'bert_relevant_sentences_direct_original', 'bert_relevant_sentences_indirect_original'])"
      ]
     },
     "execution_count": 12,
     "metadata": {},
     "output_type": "execute_result"
    }
   ],
   "source": [
    "processed_json[0].keys()"
   ]
  },
  {
   "cell_type": "code",
   "execution_count": null,
   "metadata": {
    "id": "DH_JOt38xtAr"
   },
   "outputs": [],
   "source": []
  }
 ],
 "metadata": {
  "accelerator": "GPU",
  "colab": {
   "collapsed_sections": [],
   "name": " bert_as_a_service_filtering",
   "provenance": []
  },
  "kernelspec": {
   "display_name": "Python 3",
   "language": "python",
   "name": "python3"
  },
  "language_info": {
   "codemirror_mode": {
    "name": "ipython",
    "version": 3
   },
   "file_extension": ".py",
   "mimetype": "text/x-python",
   "name": "python",
   "nbconvert_exporter": "python",
   "pygments_lexer": "ipython3",
   "version": "3.8.5"
  }
 },
 "nbformat": 4,
 "nbformat_minor": 1
}

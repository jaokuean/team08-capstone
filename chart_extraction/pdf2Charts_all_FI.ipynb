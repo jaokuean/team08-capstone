{
 "cells": [
  {
   "cell_type": "markdown",
   "metadata": {},
   "source": [
    "# Chart Extraction \n",
    "## 1. Install all the prerequisite "
   ]
  },
  {
   "cell_type": "code",
   "execution_count": 2,
   "metadata": {
    "scrolled": true
   },
   "outputs": [
    {
     "name": "stdout",
     "output_type": "stream",
     "text": [
      "Collecting pdf2image\n",
      "  Using cached pdf2image-1.16.0-py3-none-any.whl (10 kB)\n",
      "Collecting pillow\n",
      "  Downloading Pillow-8.4.0-cp37-cp37m-macosx_10_10_x86_64.whl (3.0 MB)\n",
      "\u001b[K     |████████████████████████████████| 3.0 MB 4.5 MB/s eta 0:00:01\n",
      "\u001b[?25hInstalling collected packages: pillow, pdf2image\n",
      "Successfully installed pdf2image-1.16.0 pillow-8.4.0\n"
     ]
    }
   ],
   "source": [
    "!pip install pdf2image"
   ]
  },
  {
   "cell_type": "code",
   "execution_count": 4,
   "metadata": {},
   "outputs": [
    {
     "name": "stdout",
     "output_type": "stream",
     "text": [
      "Collecting opencv-python\n",
      "  Downloading opencv_python-4.5.4.58-cp37-cp37m-macosx_10_15_x86_64.whl (45.5 MB)\n",
      "\u001b[K     |████████████████████████████████| 45.5 MB 17.2 MB/s eta 0:00:01\n",
      "\u001b[?25hCollecting numpy>=1.14.5\n",
      "  Downloading numpy-1.21.4-cp37-cp37m-macosx_10_9_x86_64.whl (16.9 MB)\n",
      "\u001b[K     |████████████████████████████████| 16.9 MB 5.5 MB/s eta 0:00:01\n",
      "\u001b[?25hInstalling collected packages: numpy, opencv-python\n",
      "Successfully installed numpy-1.21.4 opencv-python-4.5.4.58\n"
     ]
    }
   ],
   "source": [
    "!pip install opencv-python"
   ]
  },
  {
   "cell_type": "code",
   "execution_count": 6,
   "metadata": {},
   "outputs": [
    {
     "name": "stdout",
     "output_type": "stream",
     "text": [
      "Collecting matplotlib\n",
      "  Downloading matplotlib-3.4.3-cp37-cp37m-macosx_10_9_x86_64.whl (7.2 MB)\n",
      "\u001b[K     |████████████████████████████████| 7.2 MB 4.3 MB/s eta 0:00:01\n",
      "\u001b[?25hRequirement already satisfied: pyparsing>=2.2.1 in /Users/jaokueanwong/opt/anaconda3/envs/chart_ext/lib/python3.7/site-packages (from matplotlib) (3.0.4)\n",
      "Collecting kiwisolver>=1.0.1\n",
      "  Downloading kiwisolver-1.3.2-cp37-cp37m-macosx_10_9_x86_64.whl (61 kB)\n",
      "\u001b[K     |████████████████████████████████| 61 kB 76 kB/s s eta 0:00:01\n",
      "\u001b[?25hCollecting cycler>=0.10\n",
      "  Downloading cycler-0.11.0-py3-none-any.whl (6.4 kB)\n",
      "Requirement already satisfied: numpy>=1.16 in /Users/jaokueanwong/opt/anaconda3/envs/chart_ext/lib/python3.7/site-packages (from matplotlib) (1.21.4)\n",
      "Requirement already satisfied: python-dateutil>=2.7 in /Users/jaokueanwong/opt/anaconda3/envs/chart_ext/lib/python3.7/site-packages (from matplotlib) (2.8.2)\n",
      "Requirement already satisfied: pillow>=6.2.0 in /Users/jaokueanwong/opt/anaconda3/envs/chart_ext/lib/python3.7/site-packages (from matplotlib) (8.4.0)\n",
      "Requirement already satisfied: six>=1.5 in /Users/jaokueanwong/opt/anaconda3/envs/chart_ext/lib/python3.7/site-packages (from python-dateutil>=2.7->matplotlib) (1.16.0)\n",
      "Installing collected packages: kiwisolver, cycler, matplotlib\n",
      "Successfully installed cycler-0.11.0 kiwisolver-1.3.2 matplotlib-3.4.3\n"
     ]
    }
   ],
   "source": [
    "!pip install matplotlib"
   ]
  },
  {
   "cell_type": "code",
   "execution_count": 9,
   "metadata": {},
   "outputs": [
    {
     "name": "stdout",
     "output_type": "stream",
     "text": [
      "Collecting pytesseract\n",
      "  Using cached pytesseract-0.3.8.tar.gz (14 kB)\n",
      "Requirement already satisfied: Pillow in /Users/jaokueanwong/opt/anaconda3/envs/chart_ext/lib/python3.7/site-packages (from pytesseract) (8.4.0)\n",
      "Building wheels for collected packages: pytesseract\n",
      "  Building wheel for pytesseract (setup.py) ... \u001b[?25ldone\n",
      "\u001b[?25h  Created wheel for pytesseract: filename=pytesseract-0.3.8-py2.py3-none-any.whl size=14072 sha256=f318706b43f4a8c8c4759f42400bc22f33068edf54ba936a13b4e1285cc830e1\n",
      "  Stored in directory: /Users/jaokueanwong/Library/Caches/pip/wheels/a4/89/b9/3f11250225d0f90e5454fcc30fd1b7208db226850715aa9ace\n",
      "Successfully built pytesseract\n",
      "Installing collected packages: pytesseract\n",
      "Successfully installed pytesseract-0.3.8\n"
     ]
    }
   ],
   "source": [
    "!pip install pytesseract"
   ]
  },
  {
   "cell_type": "code",
   "execution_count": null,
   "metadata": {},
   "outputs": [],
   "source": []
  },
  {
   "cell_type": "code",
   "execution_count": 8,
   "metadata": {},
   "outputs": [
    {
     "name": "stdout",
     "output_type": "stream",
     "text": [
      "Python 3.7.11\r\n"
     ]
    }
   ],
   "source": [
    "!python --version"
   ]
  },
  {
   "cell_type": "code",
   "execution_count": 1,
   "metadata": {},
   "outputs": [
    {
     "name": "stdout",
     "output_type": "stream",
     "text": [
      "Requirement already satisfied: pdf2image in /Users/jaokueanwong/opt/anaconda3/lib/python3.8/site-packages (1.16.0)\n",
      "Requirement already satisfied: pillow in /Users/jaokueanwong/opt/anaconda3/lib/python3.8/site-packages (from pdf2image) (8.0.1)\n",
      "\u001b[33mWARNING: You are using pip version 21.3; however, version 21.3.1 is available.\n",
      "You should consider upgrading via the '/Users/jaokueanwong/opt/anaconda3/bin/python -m pip install --upgrade pip' command.\u001b[0m\n",
      "Requirement already satisfied: pytesseract in /Users/jaokueanwong/opt/anaconda3/lib/python3.8/site-packages (0.3.8)\n",
      "Requirement already satisfied: Pillow in /Users/jaokueanwong/opt/anaconda3/lib/python3.8/site-packages (from pytesseract) (8.0.1)\n",
      "\u001b[33mWARNING: You are using pip version 21.3; however, version 21.3.1 is available.\n",
      "You should consider upgrading via the '/Users/jaokueanwong/opt/anaconda3/bin/python -m pip install --upgrade pip' command.\u001b[0m\n",
      "Requirement already satisfied: opencv-python in /Users/jaokueanwong/opt/anaconda3/lib/python3.8/site-packages (4.5.3.56)\n",
      "Requirement already satisfied: numpy>=1.17.3 in /Users/jaokueanwong/opt/anaconda3/lib/python3.8/site-packages (from opencv-python) (1.19.2)\n",
      "\u001b[33mWARNING: You are using pip version 21.3; however, version 21.3.1 is available.\n",
      "You should consider upgrading via the '/Users/jaokueanwong/opt/anaconda3/bin/python -m pip install --upgrade pip' command.\u001b[0m\n",
      "Python 3.8.5\n"
     ]
    }
   ],
   "source": [
    "!pip install pdf2image\n",
    "!pip install pytesseract\n",
    "!pip install opencv-python\n",
    "!python --version"
   ]
  },
  {
   "cell_type": "markdown",
   "metadata": {},
   "source": [
    "## 2. Import relevant packages"
   ]
  },
  {
   "cell_type": "code",
   "execution_count": 10,
   "metadata": {},
   "outputs": [],
   "source": [
    "# Use for checking files in dir\n",
    "import os\n",
    "\n",
    "# Extract each pdf page to image\n",
    "from pdf2image import convert_from_path \n",
    "from pdf2image.exceptions import (\n",
    " PDFInfoNotInstalledError,\n",
    " PDFPageCountError,\n",
    " PDFSyntaxError\n",
    ")\n",
    "import chart_extraction\n",
    "\n",
    "# Image Processing\n",
    "import json\n",
    "import cv2\n",
    "import numpy as np\n",
    "import matplotlib.pyplot as plt\n",
    "from matplotlib import gridspec\n",
    "import pytesseract\n",
    "import datetime"
   ]
  },
  {
   "cell_type": "markdown",
   "metadata": {},
   "source": [
    "## 3.Run Program on all FI"
   ]
  },
  {
   "cell_type": "code",
   "execution_count": 11,
   "metadata": {},
   "outputs": [],
   "source": [
    "def get_all_charts_data(img_path):\n",
    "    f = open(img_path,)\n",
    "    data = json.load(f)\n",
    "    json_lst = []\n",
    "    \n",
    "    # x_reports to look at for testing purposes.\n",
    "    # x_report = 1\n",
    "    for i in data: # Load first x_reports from json\n",
    "        # print(i)\n",
    "        result = chart_extraction.chart_pipeline(i)\n",
    "        json_lst.append(result)\n",
    "        print(f\"++++++++++ Report done ++++++++++\")\n",
    "    print(f\"================================ JOB COMPLETE =======================================\")\n",
    "\n",
    "    # Closing file\n",
    "    f.close()\n",
    "    \n",
    "    return json_lst"
   ]
  },
  {
   "cell_type": "code",
   "execution_count": null,
   "metadata": {},
   "outputs": [
    {
     "name": "stdout",
     "output_type": "stream",
     "text": [
      "preprocessed/all_pension_funds_preprocessed_vfinal.json\n"
     ]
    }
   ],
   "source": [
    "json_out =[]\n",
    "\n",
    "# Replace with .json type data source\n",
    "# Store .json files for each report in preprocessed folder\n",
    "data_source_file = \"preprocessed/\" \n",
    "for filename in os.listdir(data_source_file):\n",
    "    if filename.endswith(\".json\"):\n",
    "        img_path = os.path.join(data_source_file, filename)\n",
    "        print(img_path)\n",
    "        json_out = json_out + get_all_charts_data(img_path)\n"
   ]
  },
  {
   "cell_type": "code",
   "execution_count": 6,
   "metadata": {},
   "outputs": [],
   "source": [
    "# The program ends when this code is runned\n",
    "# Approx timing: 30-45 mins for all asian banks (40 reports) \n",
    "with open('chart_output.json', 'w') as f:\n",
    "    json.dump(json_out, f)"
   ]
  },
  {
   "cell_type": "code",
   "execution_count": null,
   "metadata": {},
   "outputs": [],
   "source": []
  },
  {
   "cell_type": "code",
   "execution_count": null,
   "metadata": {},
   "outputs": [],
   "source": []
  }
 ],
 "metadata": {
  "kernelspec": {
   "display_name": "Python 3 (ipykernel)",
   "language": "python",
   "name": "python3"
  },
  "language_info": {
   "codemirror_mode": {
    "name": "ipython",
    "version": 3
   },
   "file_extension": ".py",
   "mimetype": "text/x-python",
   "name": "python",
   "nbconvert_exporter": "python",
   "pygments_lexer": "ipython3",
   "version": "3.7.11"
  }
 },
 "nbformat": 4,
 "nbformat_minor": 4
}

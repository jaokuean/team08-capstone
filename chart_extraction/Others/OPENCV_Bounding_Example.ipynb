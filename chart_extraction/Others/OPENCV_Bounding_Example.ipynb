{
 "cells": [
  {
   "cell_type": "code",
   "execution_count": 1,
   "metadata": {},
   "outputs": [],
   "source": [
    "import cv2\n",
    "import numpy as np\n",
    "import matplotlib.pyplot as plt\n",
    "from matplotlib import gridspec"
   ]
  },
  {
   "cell_type": "code",
   "execution_count": 2,
   "metadata": {},
   "outputs": [],
   "source": [
    "def plot_horizontal_projection(file_name, img, projection):\n",
    "    fig = plt.figure(1, figsize=(12,16))\n",
    "    gs = gridspec.GridSpec(1, 2, width_ratios=[3,1])\n",
    "\n",
    "    ax = plt.subplot(gs[0])\n",
    "    im = ax.imshow(img, interpolation='nearest', aspect='auto')\n",
    "    ax.grid(which='major', alpha=0.5)\n",
    "\n",
    "    ax = plt.subplot(gs[1])\n",
    "    ax.plot(projection, np.arange(img.shape[0]), 'm')\n",
    "    ax.grid(which='major', alpha=0.5)\n",
    "    plt.xlim([0.0, 255.0])\n",
    "    plt.ylim([-0.5, img.shape[0] - 0.5])\n",
    "    ax.invert_yaxis()\n",
    "\n",
    "    fig.suptitle(\"FOO\", fontsize=16)\n",
    "    gs.tight_layout(fig, rect=[0, 0.03, 1, 0.97])  \n",
    "\n",
    "    fig.set_dpi(200)\n",
    "\n",
    "    fig.savefig(file_name, bbox_inches='tight', dpi=fig.dpi)\n",
    "    plt.clf() \n",
    "\n",
    "def plot_vertical_projection(file_name, img, projection):\n",
    "    fig = plt.figure(2, figsize=(12, 4))\n",
    "    gs = gridspec.GridSpec(2, 1, height_ratios=[1,5])\n",
    "\n",
    "    ax = plt.subplot(gs[0])\n",
    "    im = ax.imshow(img, interpolation='nearest', aspect='auto')\n",
    "    ax.grid(which='major', alpha=0.5)\n",
    "\n",
    "    ax = plt.subplot(gs[1])\n",
    "    ax.plot(np.arange(img.shape[1]), projection, 'm')\n",
    "    ax.grid(which='major', alpha=0.5)\n",
    "    plt.xlim([-0.5, img.shape[1] - 0.5])\n",
    "    plt.ylim([0.0, 255.0])\n",
    "\n",
    "    fig.suptitle(\"FOO\", fontsize=16)\n",
    "    gs.tight_layout(fig, rect=[0, 0.03, 1, 0.97])  \n",
    "\n",
    "    fig.set_dpi(200)\n",
    "\n",
    "    fig.savefig(file_name, bbox_inches='tight', dpi=fig.dpi)\n",
    "    plt.clf() \n",
    "\n",
    "def visualize_hp(file_name, img, row_means, row_cutpoints):\n",
    "    row_highlight = cv2.cvtColor(img, cv2.COLOR_BGR2RGB)\n",
    "    row_highlight[row_means == 0, :, :] = [255,191,191]\n",
    "    row_highlight[row_cutpoints.astype('int64'), :, :] = [255,0,0]\n",
    "    plot_horizontal_projection(file_name, row_highlight, row_means)\n",
    "\n",
    "def visualize_vp(file_name, img, column_means, column_cutpoints):\n",
    "    col_highlight = cv2.cvtColor(img, cv2.COLOR_BGR2RGB)\n",
    "    col_highlight[:, column_means == 0, :] = [255,191,191]\n",
    "    col_highlight[:, column_cutpoints.astype('int64'), :] = [255,0,0]\n",
    "    plot_vertical_projection(file_name, col_highlight, column_means)\n",
    "\n",
    "\n",
    "# From https://stackoverflow.com/a/24892274/3962537\n",
    "def zero_runs(a):\n",
    "    # Create an array that is 1 where a is 0, and pad each end with an extra 0.\n",
    "    iszero = np.concatenate(([0], np.equal(a, 0).view(np.int8), [0]))\n",
    "    absdiff = np.abs(np.diff(iszero))\n",
    "    # Runs start and end where absdiff is 1.\n",
    "    ranges = np.where(absdiff == 1)[0].reshape(-1, 2)\n",
    "    return ranges\n",
    "\n"
   ]
  },
  {
   "cell_type": "code",
   "execution_count": null,
   "metadata": {},
   "outputs": [],
   "source": []
  },
  {
   "cell_type": "code",
   "execution_count": 16,
   "metadata": {},
   "outputs": [
    {
     "data": {
      "text/plain": [
       "<Figure size 2400x3200 with 0 Axes>"
      ]
     },
     "metadata": {},
     "output_type": "display_data"
    }
   ],
   "source": [
    "img = cv2.imread('UOB-Sustainability-Report-2020_Output/page36.png', cv2.IMREAD_COLOR) #extract img\n",
    "img_gray = cv2.cvtColor(img, cv2.COLOR_BGR2GRAY) # turn img to grey\n",
    "img_gray_inverted = 255 - img_gray #\n",
    "\n",
    "row_means = cv2.reduce(img_gray_inverted, 1, cv2.REDUCE_AVG, dtype=cv2.CV_32F).flatten()\n",
    "row_gaps = zero_runs(row_means)\n",
    "row_cutpoints = (row_gaps[:,0] + row_gaps[:,1] - 1) / 2\n",
    "\n",
    "visualize_hp(\"article_img11.png\", img, row_means, row_cutpoints)"
   ]
  },
  {
   "cell_type": "code",
   "execution_count": 10,
   "metadata": {},
   "outputs": [],
   "source": [
    "#cv2.imshow('image',img_gray)\n",
    "#cv2.waitKey(0)"
   ]
  },
  {
   "cell_type": "code",
   "execution_count": 11,
   "metadata": {},
   "outputs": [],
   "source": [
    "\n",
    "bounding_boxes = []\n",
    "for n,(start,end) in enumerate(zip(row_cutpoints, row_cutpoints[1:])):\n",
    "    line = img[int(start):int(end)]\n",
    "    line_gray_inverted = img_gray_inverted[int(start):int(end)]\n",
    "\n",
    "    column_means = cv2.reduce(line_gray_inverted, 0, cv2.REDUCE_AVG, dtype=cv2.CV_32F).flatten()\n",
    "    column_gaps = zero_runs(column_means)\n",
    "    column_gap_sizes = column_gaps[:,1] - column_gaps[:,0]\n",
    "    column_cutpoints = (column_gaps[:,0] + column_gaps[:,1] - 1) / 2\n",
    "\n",
    "    filtered_cutpoints = column_cutpoints[column_gap_sizes > 50] # this part can use ML too \n",
    "\n",
    "    for xstart,xend in zip(filtered_cutpoints, filtered_cutpoints[1:]):\n",
    "\n",
    "        bounding_boxes.append(((int(xstart), int(start)), (int(xend), int(end))))\n",
    "\n",
    "    # visualize_vp(\"PingAn images/Page 11/article_vp/11article_vp_%02d.png\" % n, line, column_means, filtered_cutpoints)\n",
    "\n",
    "result = img.copy()\n",
    "# print(bounding_boxes)"
   ]
  },
  {
   "cell_type": "code",
   "execution_count": 12,
   "metadata": {},
   "outputs": [],
   "source": [
    "# This part can use ML to determine where to slice \n",
    "\n",
    "def checkDim(height, width, area):\n",
    "    print(f\"{height} x {width} = {area}\")\n",
    "    if(height <= 200):\n",
    "        return False\n",
    "    if(width <= 200):\n",
    "        return False\n",
    "    if(area <= 100000):\n",
    "        return False\n",
    "    return True\n",
    "    "
   ]
  },
  {
   "cell_type": "code",
   "execution_count": 15,
   "metadata": {},
   "outputs": [],
   "source": [
    "count = 0\n",
    "for bounding_box in bounding_boxes:\n",
    "    count = count + 1\n",
    "    \n",
    "    print(\"==================== \" + str(count))\n",
    "    print(bounding_box[0])\n",
    "    print(bounding_box[1])\n",
    "    print(f\"x:end = {bounding_box[0][0]}\")\n",
    "    print(f\"x:start = {bounding_box[0][1]}\")\n",
    "    print(f\"y:end = {bounding_box[1][0]}\")\n",
    "    print(f\"y:start = {bounding_box[1][1]}\")    \n",
    "\n",
    "    \n",
    "    height = bounding_box[1][1]-bounding_box[0][1]\n",
    "    width = bounding_box[1][0]-bounding_box[0][0]\n",
    "    area = height * width\n",
    "    print(f\"{height} x {width} = {area}\")\n",
    "    \n",
    "    if(checkDim(height, width, area) == True):\n",
    "        print(\"FOUNDED\")\n",
    "        x = 2.2\n",
    "        scale_horizontal = x*64\n",
    "        scale_vertical = x*64\n",
    "        new_x = (int(bounding_box[0][0])-int(scale_horizontal),int(bounding_box[0][1])-int(scale_vertical))\n",
    "        new_y = (int(bounding_box[1][0])+int(scale_horizontal),int(bounding_box[1][1])+int(scale_vertical))\n",
    "\n",
    "        cv2.rectangle(result, new_x, new_y, (0, 0, 255), 2)\n",
    "        cv2.imwrite(\"PingAn images/10/part%d.png\" % count, result)\n",
    "   \n",
    "    "
   ]
  },
  {
   "cell_type": "code",
   "execution_count": 8,
   "metadata": {},
   "outputs": [
    {
     "data": {
      "text/plain": [
       "True"
      ]
     },
     "execution_count": 8,
     "metadata": {},
     "output_type": "execute_result"
    }
   ],
   "source": [
    "cv2.imwrite(\"Page10_output.png\", result)"
   ]
  },
  {
   "cell_type": "code",
   "execution_count": null,
   "metadata": {},
   "outputs": [],
   "source": []
  }
 ],
 "metadata": {
  "kernelspec": {
   "display_name": "Python 3",
   "language": "python",
   "name": "python3"
  },
  "language_info": {
   "codemirror_mode": {
    "name": "ipython",
    "version": 3
   },
   "file_extension": ".py",
   "mimetype": "text/x-python",
   "name": "python",
   "nbconvert_exporter": "python",
   "pygments_lexer": "ipython3",
   "version": "3.8.5"
  }
 },
 "nbformat": 4,
 "nbformat_minor": 4
}

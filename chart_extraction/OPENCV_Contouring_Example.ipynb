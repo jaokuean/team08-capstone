{
 "cells": [
  {
   "cell_type": "code",
   "execution_count": 1,
   "metadata": {},
   "outputs": [],
   "source": [
    "import cv2\n",
    "import numpy as np"
   ]
  },
  {
   "cell_type": "code",
   "execution_count": 2,
   "metadata": {},
   "outputs": [],
   "source": [
    "# Load image, grayscale, Otsu's threshold\n",
    "image = cv2.imread('PingAn images/image9.png')\n",
    "original = image.copy()\n",
    "gray = cv2.cvtColor(image, cv2.COLOR_BGR2GRAY)\n",
    "thresh = cv2.threshold(gray, 0, 255, cv2.THRESH_BINARY_INV + cv2.THRESH_OTSU)[1]"
   ]
  },
  {
   "cell_type": "code",
   "execution_count": 3,
   "metadata": {},
   "outputs": [],
   "source": [
    "# Dilate with horizontal kernel\n",
    "kernel = cv2.getStructuringElement(cv2.MORPH_RECT, (20,10))\n",
    "dilate = cv2.dilate(thresh, kernel, iterations=2)"
   ]
  },
  {
   "cell_type": "code",
   "execution_count": 4,
   "metadata": {},
   "outputs": [],
   "source": [
    "# Find contours and remove non-diagram contours\n",
    "cnts = cv2.findContours(dilate, cv2.RETR_EXTERNAL, cv2.CHAIN_APPROX_SIMPLE)\n",
    "cnts = cnts[0] if len(cnts) == 2 else cnts[1]\n",
    "for c in cnts:\n",
    "    x,y,w,h = cv2.boundingRect(c)\n",
    "    area = cv2.contourArea(c)\n",
    "    if w/h > 2 and area > 10000:\n",
    "        cv2.drawContours(dilate, [c], -1, (0,0,0), -1)"
   ]
  },
  {
   "cell_type": "code",
   "execution_count": 5,
   "metadata": {},
   "outputs": [],
   "source": [
    "# Iterate through diagram contours and form single bounding box\n",
    "boxes = []\n",
    "cnts = cv2.findContours(dilate, cv2.RETR_EXTERNAL, cv2.CHAIN_APPROX_SIMPLE)\n",
    "cnts = cnts[0] if len(cnts) == 2 else cnts[1]\n",
    "for c in cnts:\n",
    "    x, y, w, h = cv2.boundingRect(c)\n",
    "    boxes.append([x,y, x+w,y+h])"
   ]
  },
  {
   "cell_type": "code",
   "execution_count": 6,
   "metadata": {},
   "outputs": [],
   "source": [
    "boxes = np.asarray(boxes)\n",
    "x = np.min(boxes[:,0])\n",
    "y = np.min(boxes[:,1])\n",
    "w = np.max(boxes[:,2]) - x\n",
    "h = np.max(boxes[:,3]) - y"
   ]
  },
  {
   "cell_type": "code",
   "execution_count": 7,
   "metadata": {},
   "outputs": [],
   "source": [
    "# Extract ROI\n",
    "cv2.rectangle(image, (x,y), (x + w,y + h), (36,255,12), 3)\n",
    "ROI = original[y:y+h, x:x+w]"
   ]
  },
  {
   "cell_type": "code",
   "execution_count": 8,
   "metadata": {},
   "outputs": [
    {
     "data": {
      "text/plain": [
       "True"
      ]
     },
     "execution_count": 8,
     "metadata": {},
     "output_type": "execute_result"
    }
   ],
   "source": [
    "cv2.imwrite(\"GDFIV2_Out/GDFI_V2_img.png\", image)\n",
    "cv2.imwrite(\"GDFIV2_Out/GDFI_V2_thresh.png\", thresh)\n",
    "cv2.imwrite(\"GDFIV2_Out/GDFI_V2_dilate.png\", dilate)\n",
    "cv2.imwrite(\"GDFIV2_Out/GDFI_V2_ROI.png\", ROI)"
   ]
  },
  {
   "cell_type": "code",
   "execution_count": null,
   "metadata": {},
   "outputs": [],
   "source": []
  }
 ],
 "metadata": {
  "kernelspec": {
   "display_name": "Python 3",
   "language": "python",
   "name": "python3"
  },
  "language_info": {
   "codemirror_mode": {
    "name": "ipython",
    "version": 3
   },
   "file_extension": ".py",
   "mimetype": "text/x-python",
   "name": "python",
   "nbconvert_exporter": "python",
   "pygments_lexer": "ipython3",
   "version": "3.8.5"
  }
 },
 "nbformat": 4,
 "nbformat_minor": 4
}

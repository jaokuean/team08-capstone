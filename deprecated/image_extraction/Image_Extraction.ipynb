{
  "nbformat": 4,
  "nbformat_minor": 0,
  "metadata": {
    "colab": {
      "name": "Image_Extraction.ipynb",
      "provenance": [],
      "collapsed_sections": []
    },
    "kernelspec": {
      "name": "python3",
      "display_name": "Python 3"
    },
    "language_info": {
      "name": "python"
    }
  },
  "cells": [
    {
      "cell_type": "code",
      "metadata": {
        "colab": {
          "base_uri": "https://localhost:8080/"
        },
        "id": "aCwrNrqdHZLK",
        "outputId": "280bf88d-c976-420a-c910-5f540c1df1ff"
      },
      "source": [
        "from google.colab import drive\n",
        "drive.mount('/content/drive')"
      ],
      "execution_count": null,
      "outputs": [
        {
          "output_type": "stream",
          "name": "stdout",
          "text": [
            "Drive already mounted at /content/drive; to attempt to forcibly remount, call drive.mount(\"/content/drive\", force_remount=True).\n"
          ]
        }
      ]
    },
    {
      "cell_type": "code",
      "metadata": {
        "id": "LGnWZDjFVum3"
      },
      "source": [
        "import fitz\n",
        "import io\n",
        "import os\n",
        "from PIL import Image\n",
        "import glob"
      ],
      "execution_count": null,
      "outputs": []
    },
    {
      "cell_type": "markdown",
      "metadata": {
        "id": "6923vsC1To0l"
      },
      "source": [
        "Minecart"
      ]
    },
    {
      "cell_type": "code",
      "metadata": {
        "id": "TIDs9tb-N2Wo"
      },
      "source": [
        "# import minecart\n",
        "\n",
        "# pdffile = open(file, 'rb')\n",
        "# doc = minecart.Document(pdffile)\n",
        "# doc\n",
        "# # page = doc.get_page(0) # getting a single page\n",
        "\n",
        "# #iterating through all pages\n",
        "# for page in doc.iter_pages():\n",
        "#     im = page.images[0].as_pil()  # requires pillow\n",
        "#     display(im)"
      ],
      "execution_count": null,
      "outputs": []
    },
    {
      "cell_type": "markdown",
      "metadata": {
        "id": "PPNItT6ZVoon"
      },
      "source": [
        "Original PyMuPDF"
      ]
    },
    {
      "cell_type": "code",
      "metadata": {
        "id": "OA8_ZP6nVn7k"
      },
      "source": [
        "# for page_index in range(len(pdf_file)):\n",
        "    \n",
        "#     # get the page itself\n",
        "#     page = pdf_file[page_index]\n",
        "#     image_list = page.getImageList()\n",
        "      \n",
        "#     # printing number of images found in this page\n",
        "#     if image_list:\n",
        "#         print(f\"[+] Found a total of {len(image_list)} images in page {page_index}\")\n",
        "#     else:\n",
        "#         print(\"[!] No images found on page\", page_index)\n",
        "        \n",
        "#     for image_index, img in enumerate(page.getImageList(), start=1):\n",
        "        \n",
        "#         # get the XREF of the image\n",
        "#         xref = img[0]\n",
        "          \n",
        "#         # extract the image bytes\n",
        "#         base_image = pdf_file.extractImage(xref)\n",
        "#         image_bytes = base_image[\"image\"]\n",
        "          \n",
        "#         # get the image extension\n",
        "#         image_ext = base_image[\"ext\"]\n",
        "\n",
        "#         # load it to PIL\n",
        "#         image = Image.open(io.BytesIO(image_bytes))\n",
        "\n",
        "#         # save it to local disk\n",
        "#         image.save(open(f\"/content/drive/My Drive/test/image{page_index+1}_{image_index}.{image_ext}\", \"wb\"))"
      ],
      "execution_count": null,
      "outputs": []
    },
    {
      "cell_type": "markdown",
      "metadata": {
        "id": "iWptZwosWbj5"
      },
      "source": [
        "Modified PyMuPDF"
      ]
    },
    {
      "cell_type": "code",
      "metadata": {
        "colab": {
          "base_uri": "https://localhost:8080/"
        },
        "id": "Utx5_jUXZDnq",
        "outputId": "eb71aba8-b2ed-46c5-ca1b-b8c774f86a09"
      },
      "source": [
        "# open the files\n",
        "path = \"/content/drive/My Drive/test/*.pdf\" #can change to local path\n",
        "for file in glob.glob(path):\n",
        "  print('Currently working on '+ file)\n",
        "  name = file.split(\".pdf\")[0]\n",
        "  if not os.path.exists('/content/drive/My Drive/test/%s/'%(name)):\n",
        "    os.makedirs('/content/drive/My Drive/test/%s/'%(name))\n",
        "  doc = fitz.open(file)\n",
        "  for i in range(len(doc)):\n",
        "      for img in doc.getPageImageList(i):\n",
        "          xref = img[0]\n",
        "          pix = fitz.Pixmap(doc, xref)\n",
        "          if pix.n - pix.alpha < 4:       # this is GRAY or RGB\n",
        "              pix.writePNG(\"/content/drive/My Drive/test/%s/p%s-%s.png\" % (name, i, xref))\n",
        "          else:               # CMYK: convert to RGB first\n",
        "              pix1 = fitz.Pixmap(fitz.csRGB, pix)\n",
        "              pix1.writePNG(\"/content/drive/My Drive/test/%s/p%s-%s.png\" % (name, i, xref))\n",
        "              pix1 = None\n",
        "          pix = None"
      ],
      "execution_count": null,
      "outputs": [
        {
          "output_type": "stream",
          "name": "stdout",
          "text": [
            "Currently working on /content/drive/My Drive/test/UOB-Sustainability-Report-2020.pdf\n",
            "Currently working on /content/drive/My Drive/test/GPIF_ESGREPORT_FY2019.pdf\n",
            "Currently working on /content/drive/My Drive/test/NZSF-Climate-Change-Report-2020-Final-v2.pdf\n",
            "Currently working on /content/drive/My Drive/test/2020 Sustainability Report.pdf\n",
            "Currently working on /content/drive/My Drive/test/disc2020_01.pdf\n",
            "Currently working on /content/drive/My Drive/test/DBS Sustainability Report 2020.pdf\n",
            "Currently working on /content/drive/My Drive/test/CPF_AnnualReport2020_Part1.pdf\n",
            "Currently working on /content/drive/My Drive/test/blackrock-2020-sasb-disclosure.pdf\n",
            "Currently working on /content/drive/My Drive/test/ap7-sustainability-report-2020.pdf\n",
            "Currently working on /content/drive/My Drive/test/AIA_ESG_En.pdf\n",
            "Currently working on /content/drive/My Drive/test/a-time-for-action-july-2021.pdf\n",
            "Currently working on /content/drive/My Drive/test/2020-sustainability-report.pdf\n",
            "Currently working on /content/drive/My Drive/test/SustainabilityReport2019_en.pdf\n",
            "Currently working on /content/drive/My Drive/test/SR-BNI-2020-US.pdf\n",
            "Currently working on /content/drive/My Drive/test/government-pension-fund-global_2020_responsible-investment_web.pdf\n",
            "Currently working on /content/drive/My Drive/test/esg-report-2020.pdf\n",
            "Currently working on /content/drive/My Drive/test/en_all.pdf\n"
          ]
        }
      ]
    }
  ]
}
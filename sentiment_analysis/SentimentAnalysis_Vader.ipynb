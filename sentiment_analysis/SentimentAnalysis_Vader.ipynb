{
 "cells": [
  {
   "cell_type": "code",
   "execution_count": 1,
   "metadata": {},
   "outputs": [],
   "source": [
    "import nltk\n",
    "# nltk.download('vader_lexicon')\n",
    "from nltk.sentiment.vader import SentimentIntensityAnalyzer\n",
    "import matplotlib.pyplot as plt; plt.rcdefaults()\n",
    "import numpy as np\n",
    "import matplotlib.pyplot as plt\n",
    "import json"
   ]
  },
  {
   "cell_type": "code",
   "execution_count": null,
   "metadata": {},
   "outputs": [],
   "source": [
    "d = #processed json from text classification pipeline"
   ]
  },
  {
   "cell_type": "code",
   "execution_count": null,
   "metadata": {},
   "outputs": [],
   "source": [
    "def get_sentiment_score(company_json):\n",
    "    sid = SentimentIntensityAnalyzer()\n",
    "    cnt_score = [[0,0]]*5\n",
    "    for i in company_json: # loop sentences in one company's processed text\n",
    "        for j in i[2]: # index for processed text\n",
    "            category = j[xxx] # to replace with the text later\n",
    "            cnt_score[category][1] += sid.polarity_scores(j[1])['compound']\n",
    "            cnt_score[category][0] += 1\n",
    "    sentiments = [k/j for k,j in cnt_score]\n",
    "    maxxed = max(sentiments)\n",
    "    sentiment_normalised = [i/maxxed for i in sentiments]\n",
    "    \n",
    "    # need to test from here onwards once upstream models are done\n",
    "    processed_data = {'class_sentiments': sentiment_normalised}\n",
    "    new_json = company_json.update(processed_data)\n",
    "    return new_json"
   ]
  },
  {
   "cell_type": "markdown",
   "metadata": {},
   "source": [
    "Helper code for testing"
   ]
  },
  {
   "cell_type": "code",
   "execution_count": null,
   "metadata": {},
   "outputs": [],
   "source": [
    "# objects = ('Emissions', 'Renewables', 'Waste', 'Sustainable Investing', 'Others')\n",
    "# y_pos = np.arange(len(objects))\n",
    "# performance = \n",
    "\n",
    "# my_cmap = plt.cm.get_cmap('Reds')\n",
    "# colors = my_cmap(performance)\n",
    "\n",
    "# plt.bar(y_pos, performance, align='center', color =colors, alpha=0.7)\n",
    "# plt.xticks(y_pos, objects, rotation=45) \n",
    "# plt.ylabel('Average sentiment score')\n",
    "# plt.title('Bar chart of average sentiment score in each decarbonisation category')\n",
    "\n",
    "# plt.show()"
   ]
  }
 ],
 "metadata": {
  "kernelspec": {
   "display_name": "Python 3",
   "language": "python",
   "name": "python3"
  },
  "language_info": {
   "codemirror_mode": {
    "name": "ipython",
    "version": 3
   },
   "file_extension": ".py",
   "mimetype": "text/x-python",
   "name": "python",
   "nbconvert_exporter": "python",
   "pygments_lexer": "ipython3",
   "version": "3.8.5"
  }
 },
 "nbformat": 4,
 "nbformat_minor": 5
}

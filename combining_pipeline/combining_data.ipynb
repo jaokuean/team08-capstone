{
 "cells": [
  {
   "cell_type": "markdown",
   "metadata": {},
   "source": [
    "# Combining Data for Final Database"
   ]
  },
  {
   "cell_type": "code",
   "execution_count": 2,
   "metadata": {},
   "outputs": [],
   "source": [
    "import pandas as pd\n",
    "import json\n",
    "import os\n",
    "import numpy as np"
   ]
  },
  {
   "cell_type": "code",
   "execution_count": 3,
   "metadata": {},
   "outputs": [],
   "source": [
    "DATA_FOLDER = \"../data/preprocessed_sustainability_reports/\""
   ]
  },
  {
   "cell_type": "code",
   "execution_count": 23,
   "metadata": {
    "scrolled": true
   },
   "outputs": [
    {
     "data": {
      "text/plain": [
       "['all_asset_managers_preprocessed_vfinal_BERT.json',\n",
       " '.DS_Store',\n",
       " 'all_pension_funds_preprocessed_vfinal_BERT.json',\n",
       " 'all_asian_banks_preprocessed_vfinal_BERT.json',\n",
       " 'all_pension_funds_preprocessed_vfinal.json',\n",
       " 'all_vfinal_BERT.json',\n",
       " 'all_asset_managers_preprocessed_vfinal.json',\n",
       " 'all_insurance_preprocessed_vfinal_BERT.json',\n",
       " 'all_vfinal.json',\n",
       " 'all_asian_banks_preprocessed_vfinal.json',\n",
       " 'all_insurance_preprocessed_vfinal.json']"
      ]
     },
     "execution_count": 23,
     "metadata": {},
     "output_type": "execute_result"
    }
   ],
   "source": [
    "[file for file in os.listdir(DATA_FOLDER)]"
   ]
  },
  {
   "cell_type": "markdown",
   "metadata": {},
   "source": [
    "### Combine all 4 json into 1"
   ]
  },
  {
   "cell_type": "code",
   "execution_count": 16,
   "metadata": {},
   "outputs": [],
   "source": [
    "files = [file for file in os.listdir(DATA_FOLDER) if \"BERT\" not in file and \".DS\" not in file]\n",
    "files_BERT = [file for file in os.listdir(DATA_FOLDER) if \"BERT\" in file]\n",
    "\n",
    "def merge_JsonFiles(filename):\n",
    "    result = list()\n",
    "    for f1 in filename:\n",
    "        with open(DATA_FOLDER + f1, 'r') as infile:\n",
    "            result.extend(json.load(infile))\n",
    "\n",
    "    with open(DATA_FOLDER +'all_vfinal.json', 'w') as output_file:\n",
    "        json.dump(result, output_file)\n",
    "\n",
    "merge_JsonFiles(files)"
   ]
  },
  {
   "cell_type": "code",
   "execution_count": 26,
   "metadata": {},
   "outputs": [],
   "source": [
    "def merge_JsonFiles(filename):\n",
    "    result = list()\n",
    "    for f1 in filename:\n",
    "        with open(DATA_FOLDER + f1, 'r') as infile:\n",
    "            result.extend(json.load(infile))\n",
    "\n",
    "    with open(DATA_FOLDER + 'all_vfinal_BERT.json', 'w') as output_file:\n",
    "        json.dump(result, output_file)\n",
    "\n",
    "merge_JsonFiles(files_BERT)"
   ]
  },
  {
   "cell_type": "code",
   "execution_count": 130,
   "metadata": {},
   "outputs": [],
   "source": [
    "with open(DATA_FOLDER + 'all_vfinal_BERT.json', 'r') as infile:\n",
    "    all_data = json.load(infile)"
   ]
  },
  {
   "cell_type": "code",
   "execution_count": 131,
   "metadata": {},
   "outputs": [
    {
     "data": {
      "text/plain": [
       "236"
      ]
     },
     "execution_count": 131,
     "metadata": {},
     "output_type": "execute_result"
    }
   ],
   "source": [
    "len(all_data)"
   ]
  },
  {
   "cell_type": "markdown",
   "metadata": {},
   "source": [
    "### Combine text data predictions with charts"
   ]
  },
  {
   "cell_type": "code",
   "execution_count": 120,
   "metadata": {},
   "outputs": [],
   "source": [
    "DATA_FOLDER = \"../data/dashboard_data/\"\n",
    "with open(DATA_FOLDER + 'all_text_output.json','r') as infile:  \n",
    "    text_predictions = json.load(infile)\n",
    "\n",
    "with open(DATA_FOLDER + 'all_chart_output.json','r') as infile:  \n",
    "    chart_predictions = json.load(infile)\n",
    "        "
   ]
  },
  {
   "cell_type": "code",
   "execution_count": null,
   "metadata": {},
   "outputs": [],
   "source": [
    "text_charts = []\n",
    "count = 0\n",
    "count_a = 0\n",
    "for company in text_predictions:\n",
    "    company_t = company[\"company\"]\n",
    "    year_t = company[\"year\"]\n",
    "    flag = 0\n",
    "    for company_charts in chart_predictions:\n",
    "        company_c = company_charts[\"company\"]\n",
    "        year_c = company_charts[\"year\"]\n",
    "        \n",
    "        if company_t == company_c and year_t == year_c:\n",
    "            charts_c = company_charts[\"images_path\"]\n",
    "            company[\"charts_images\"] = charts_c\n",
    "            text_charts.append(company)\n",
    "            flag = 1\n",
    "            count+=1\n",
    "            break\n",
    "           \n",
    "    if flag == 0 :\n",
    "        count_a +=1\n",
    "        company[\"charts_images\"] = \"nan\" \n",
    "        text_charts.append(company)"
   ]
  },
  {
   "cell_type": "code",
   "execution_count": 122,
   "metadata": {},
   "outputs": [
    {
     "data": {
      "text/plain": [
       "236"
      ]
     },
     "execution_count": 122,
     "metadata": {},
     "output_type": "execute_result"
    }
   ],
   "source": [
    "len(text_charts)"
   ]
  },
  {
   "cell_type": "code",
   "execution_count": 123,
   "metadata": {},
   "outputs": [],
   "source": [
    "with open(DATA_FOLDER +'all_text_chart_output.json', 'w') as output_file:\n",
    "    json.dump(text_charts, output_file)\n"
   ]
  },
  {
   "cell_type": "markdown",
   "metadata": {},
   "source": [
    "### Combine text & chart data with tables & wordcloud"
   ]
  },
  {
   "cell_type": "code",
   "execution_count": 230,
   "metadata": {},
   "outputs": [],
   "source": [
    "DATA_FOLDER = \"../data/dashboard_data/\"\n",
    "with open(DATA_FOLDER + 'all_text_chart_wordcloud.json','r') as infile:  \n",
    "    all_except_table = json.load(infile)"
   ]
  },
  {
   "cell_type": "code",
   "execution_count": 231,
   "metadata": {},
   "outputs": [
    {
     "data": {
      "text/plain": [
       "236"
      ]
     },
     "execution_count": 231,
     "metadata": {},
     "output_type": "execute_result"
    }
   ],
   "source": [
    "len(all_except_table)"
   ]
  },
  {
   "cell_type": "code",
   "execution_count": 232,
   "metadata": {},
   "outputs": [],
   "source": [
    "with open(DATA_FOLDER + 'all_tables.json','r') as infile:  \n",
    "    all_tables = json.load(infile)"
   ]
  },
  {
   "cell_type": "code",
   "execution_count": 233,
   "metadata": {},
   "outputs": [
    {
     "data": {
      "text/plain": [
       "230"
      ]
     },
     "execution_count": 233,
     "metadata": {},
     "output_type": "execute_result"
    }
   ],
   "source": [
    "len(all_tables)"
   ]
  },
  {
   "cell_type": "code",
   "execution_count": 234,
   "metadata": {
    "scrolled": true
   },
   "outputs": [],
   "source": [
    "final_database = []\n",
    "count = 0\n",
    "count_a = 0\n",
    "for company in all_except_table:\n",
    "    company_t = company[\"company\"]\n",
    "    year_t = company[\"year\"]\n",
    "    flag = 0\n",
    "    for table in all_tables:\n",
    "        company_c = table[\"company\"]\n",
    "        year_c = table[\"year\"]\n",
    "        \n",
    "        if company_t == company_c and year_t == year_c:\n",
    "            company[\"table_keywords\"] = table[\"table_keywords\"]\n",
    "            company[\"table_image_keywords\"] = table[\"table_image_keywords\"]\n",
    "            company[\"table_images\"]    = table[\"table_images\"]           \n",
    "            final_database.append(company)\n",
    "            flag = 1\n",
    "            count+=1\n",
    "            break\n",
    "           \n",
    "    if flag == 0 :\n",
    "        count_a +=1\n",
    "        company[\"table_keyowrds\"] = \"nan\"\n",
    "        company[\"table_image_keyowrds\"] = \"nan\" \n",
    "        company[\"table_images\"] = \"nan\"    \n",
    "        final_database.append(company)"
   ]
  },
  {
   "cell_type": "code",
   "execution_count": 235,
   "metadata": {
    "scrolled": true
   },
   "outputs": [],
   "source": [
    "final_database_v1 = []\n",
    "for fi in final_database:\n",
    "    chart_images = fi[\"charts_images\"]\n",
    "   \n",
    "    if chart_images == \"nan\":\n",
    "        final_database_v1.append(fi)\n",
    "        continue\n",
    "    \n",
    "    elif chart_images == {}:\n",
    "        fi[\"charts_images\"] = \"nan\"\n",
    "        final_database_v1.append(fi)\n",
    "        continue\n",
    "        \n",
    "    for page, images in chart_images.items():\n",
    "        image_new = []\n",
    "        if len(images) != 0 :\n",
    "            for image in images:\n",
    "                new_path = \"data/dashboard_data/\"+ image\n",
    "                image_new.append(new_path)\n",
    "        fi[\"charts_images\"][page] = image_new\n",
    "    final_database_v1.append(fi)\n",
    "                "
   ]
  },
  {
   "cell_type": "code",
   "execution_count": 236,
   "metadata": {},
   "outputs": [],
   "source": [
    "with open(DATA_FOLDER +'final_database.json', 'w') as output_file:\n",
    "    json.dump(final_database_v1, output_file)\n"
   ]
  },
  {
   "cell_type": "markdown",
   "metadata": {},
   "source": [
    "### Combine database with chart keywords"
   ]
  },
  {
   "cell_type": "code",
   "execution_count": 33,
   "metadata": {},
   "outputs": [],
   "source": [
    "DATA_FOLDER = \"../data/dashboard_data/\"\n",
    "with open(DATA_FOLDER + 'final_database.json','r') as infile:  \n",
    "    alls_json = json.load(infile)"
   ]
  },
  {
   "cell_type": "code",
   "execution_count": 37,
   "metadata": {},
   "outputs": [
    {
     "data": {
      "text/plain": [
       "dict_keys(['company', 'year', 'url', 'content', 'report_pages', 'report_sentences', 'report_pages_preprocessed', 'report_sentences_preprocessed', 'filtered_report_pages_direct', 'filtered_report_pages_indirect', 'filtered_report_sentences_direct', 'filtered_report_sentences_indirect', 'filtered_report_tables_direct', 'filtered_report_tables_indirect', 'chart_images_keywords', 'chart_images'])"
      ]
     },
     "execution_count": 37,
     "metadata": {},
     "output_type": "execute_result"
    }
   ],
   "source": [
    "chart_predictions[0].keys()"
   ]
  },
  {
   "cell_type": "code",
   "execution_count": 27,
   "metadata": {},
   "outputs": [],
   "source": [
    "with open(DATA_FOLDER + 'chart_output.json','r') as infile:  \n",
    "    chart_predictions = json.load(infile)"
   ]
  },
  {
   "cell_type": "code",
   "execution_count": 36,
   "metadata": {},
   "outputs": [
    {
     "data": {
      "text/plain": [
       "dict_keys(['company', 'year', 'url', 'text_output', 'wordcloud_img_path', 'sentiment_score', 'table_keywords', 'table_image_keywords', 'table_images'])"
      ]
     },
     "execution_count": 36,
     "metadata": {},
     "output_type": "execute_result"
    }
   ],
   "source": [
    "alls_json[0].keys()"
   ]
  },
  {
   "cell_type": "code",
   "execution_count": 29,
   "metadata": {},
   "outputs": [
    {
     "data": {
      "text/plain": [
       "236"
      ]
     },
     "execution_count": 29,
     "metadata": {},
     "output_type": "execute_result"
    }
   ],
   "source": [
    "len(chart_predictions)"
   ]
  },
  {
   "cell_type": "code",
   "execution_count": 38,
   "metadata": {},
   "outputs": [],
   "source": [
    "text_charts = []\n",
    "count = 0\n",
    "count_a = 0\n",
    "for company in alls_json:\n",
    "    company_t = company[\"company\"]\n",
    "    year_t = company[\"year\"]\n",
    "    flag = 0\n",
    "    for company_charts in chart_predictions:\n",
    "        company_c = company_charts[\"company\"]\n",
    "        year_c = company_charts[\"year\"]\n",
    "        \n",
    "        if company_t == company_c and year_t == year_c:           \n",
    "            company[\"chart_images\"] = company_charts[\"chart_images\"]\n",
    "            company[\"chart_images_keywords\"] = company_charts[\"chart_images_keywords\"]\n",
    "            text_charts.append(company)\n",
    "            flag = 1\n",
    "            count+=1\n",
    "            break\n",
    "           \n",
    "    if flag == 0 :\n",
    "        count_a +=1\n",
    "        company[\"chart_images\"] = \"nan\"\n",
    "        company[\"chart_images_keywords\"] = \"nan\"\n",
    "        text_charts.append(company)"
   ]
  },
  {
   "cell_type": "code",
   "execution_count": 31,
   "metadata": {},
   "outputs": [
    {
     "data": {
      "text/plain": [
       "0"
      ]
     },
     "execution_count": 31,
     "metadata": {},
     "output_type": "execute_result"
    }
   ],
   "source": [
    "count_a"
   ]
  },
  {
   "cell_type": "code",
   "execution_count": 39,
   "metadata": {},
   "outputs": [],
   "source": [
    "with open(DATA_FOLDER +'final_database.json', 'w') as output_file:\n",
    "    json.dump(text_charts, output_file)\n"
   ]
  },
  {
   "cell_type": "code",
   "execution_count": null,
   "metadata": {},
   "outputs": [],
   "source": []
  },
  {
   "cell_type": "code",
   "execution_count": 42,
   "metadata": {
    "scrolled": false
   },
   "outputs": [
    {
     "name": "stdout",
     "output_type": "stream",
     "text": [
      "{'company': 'Legal & General Investment Management', 'year': '2020', 'url': 'https://www.legalandgeneralgroup.com/media/18481/ryxlg_2020_gri_content_index_19521.pdf', 'text_output': {'page': [], 'sentence': [], 'relevance_prob': [], 'carbon_class': [], 'mined_text': []}, 'wordcloud_img_path': ['data/dashboard_data/wordcloud_images/NO_DATA_Carbon Emissions.png', 'data/dashboard_data/wordcloud_images/NO_DATA_Energy.png', 'data/dashboard_data/wordcloud_images/NO_DATA_Waste.png', 'data/dashboard_data/wordcloud_images/NO_DATA_Sustainable Investing.png'], 'sentiment_score': [None, None, None, None, None], 'table_keywords': 'nan', 'table_image_keywords': 'nan', 'table_images': 'nan', 'chart_images': 'nan', 'chart_images_keywords': 'nan'}\n",
      "{'company': 'CNCBI Asset Management', 'year': '2020', 'url': 'https://www.cncbinternational.com/_document/about-us/interim-and-annual-reports/en/2020/annual_report.pdf', 'text_output': {'page': [], 'sentence': [], 'relevance_prob': [], 'carbon_class': [], 'mined_text': []}, 'wordcloud_img_path': ['data/dashboard_data/wordcloud_images/NO_DATA_Carbon Emissions.png', 'data/dashboard_data/wordcloud_images/NO_DATA_Energy.png', 'data/dashboard_data/wordcloud_images/NO_DATA_Waste.png', 'data/dashboard_data/wordcloud_images/NO_DATA_Sustainable Investing.png'], 'sentiment_score': [None, None, None, None, None], 'table_keywords': {}, 'table_image_keywords': {}, 'table_images': {}, 'chart_images': {}, 'chart_images_keywords': {}}\n",
      "{'company': 'E Fund Management', 'year': '2019', 'url': 'http://www.efunds.com.cn/en/pdf/Public_Transparency_Report_2019.pdf', 'text_output': {'page': [], 'sentence': [], 'relevance_prob': [], 'carbon_class': [], 'mined_text': []}, 'wordcloud_img_path': ['data/dashboard_data/wordcloud_images/NO_DATA_Carbon Emissions.png', 'data/dashboard_data/wordcloud_images/NO_DATA_Energy.png', 'data/dashboard_data/wordcloud_images/NO_DATA_Waste.png', 'data/dashboard_data/wordcloud_images/NO_DATA_Sustainable Investing.png'], 'sentiment_score': [None, None, None, None, None], 'table_keywords': {'33': []}, 'table_image_keywords': {'33': []}, 'table_images': {'33': []}, 'chart_images': {'33': []}, 'chart_images_keywords': {'33': []}}\n",
      "{'company': 'PineBridge Investments', 'year': '2020', 'url': 'https://www.pinebridge.com/_assets/pdfs/public_transparency_report_pinebridge-investments.pdf', 'text_output': {'page': [], 'sentence': [], 'relevance_prob': [], 'carbon_class': [], 'mined_text': []}, 'wordcloud_img_path': ['data/dashboard_data/wordcloud_images/NO_DATA_Carbon Emissions.png', 'data/dashboard_data/wordcloud_images/NO_DATA_Energy.png', 'data/dashboard_data/wordcloud_images/NO_DATA_Waste.png', 'data/dashboard_data/wordcloud_images/NO_DATA_Sustainable Investing.png'], 'sentiment_score': [None, None, None, None, None], 'table_keywords': {'47': [], '54': [], '57': [], '58': [], '77': []}, 'table_image_keywords': {'47': [], '54': [], '57': [], '58': [], '77': []}, 'table_images': {'47': [], '54': [], '57': [], '58': [], '77': []}, 'chart_images': {'47': [], '54': [], '57': [], '58': [], '77': []}, 'chart_images_keywords': {'47': [], '54': [], '57': [], '58': [], '77': []}}\n",
      "{'company': 'Eastspring Investments', 'year': '2020', 'url': 'https://www.eastspring.com/docs/librariesprovider2/responsible-investments/2020-transparency-report-for-eastspring-investments.pdf', 'text_output': {'page': [], 'sentence': [], 'relevance_prob': [], 'carbon_class': [], 'mined_text': []}, 'wordcloud_img_path': ['data/dashboard_data/wordcloud_images/NO_DATA_Carbon Emissions.png', 'data/dashboard_data/wordcloud_images/NO_DATA_Energy.png', 'data/dashboard_data/wordcloud_images/NO_DATA_Waste.png', 'data/dashboard_data/wordcloud_images/NO_DATA_Sustainable Investing.png'], 'sentiment_score': [None, None, None, None, None], 'table_keywords': {'30': [], '31': [], '32': [], '33': [], '50': []}, 'table_image_keywords': {'30': [], '31': [], '32': [], '33': [], '50': []}, 'table_images': {'30': [], '31': [], '32': [], '33': [], '50': []}, 'chart_images': {'30': [], '31': [], '32': [], '33': [], '50': []}, 'chart_images_keywords': {'30': [], '31': [], '32': [], '33': [], '50': []}}\n",
      "{'company': 'Loomis Sayles', 'year': '2020', 'url': 'https://www.loomissayles.com/internet/internetdata.nsf/files/LS_2020_Sustainability_Report.pdf/$file/LS_2020_Sustainability_Report.pdf', 'text_output': {'page': [], 'sentence': [], 'relevance_prob': [], 'carbon_class': [], 'mined_text': []}, 'wordcloud_img_path': ['data/dashboard_data/wordcloud_images/NO_DATA_Carbon Emissions.png', 'data/dashboard_data/wordcloud_images/NO_DATA_Energy.png', 'data/dashboard_data/wordcloud_images/NO_DATA_Waste.png', 'data/dashboard_data/wordcloud_images/NO_DATA_Sustainable Investing.png'], 'sentiment_score': [None, None, None, None, None], 'table_keywords': 'nan', 'table_image_keywords': 'nan', 'table_images': 'nan', 'chart_images': 'nan', 'chart_images_keywords': 'nan'}\n",
      "{'company': 'GAM', 'year': '2020', 'url': 'https://www.gam.com/-/media/content/corporate-responsibility/gam-responsible-investment-policy.pdf', 'text_output': {'page': [], 'sentence': [], 'relevance_prob': [], 'carbon_class': [], 'mined_text': []}, 'wordcloud_img_path': ['data/dashboard_data/wordcloud_images/NO_DATA_Carbon Emissions.png', 'data/dashboard_data/wordcloud_images/NO_DATA_Energy.png', 'data/dashboard_data/wordcloud_images/NO_DATA_Waste.png', 'data/dashboard_data/wordcloud_images/NO_DATA_Sustainable Investing.png'], 'sentiment_score': [None, None, None, None, None], 'table_keywords': {}, 'table_image_keywords': {}, 'table_images': {}, 'chart_images': {}, 'chart_images_keywords': {}}\n",
      "{'company': 'Capital International', 'year': '2020', 'url': 'https://www.capitalgroup.com/content/dam/cgc/tenants/eacg/esg/files/esg-brochure_2020(en).pdf', 'text_output': {'page': [], 'sentence': [], 'relevance_prob': [], 'carbon_class': [], 'mined_text': []}, 'wordcloud_img_path': ['data/dashboard_data/wordcloud_images/NO_DATA_Carbon Emissions.png', 'data/dashboard_data/wordcloud_images/NO_DATA_Energy.png', 'data/dashboard_data/wordcloud_images/NO_DATA_Waste.png', 'data/dashboard_data/wordcloud_images/NO_DATA_Sustainable Investing.png'], 'sentiment_score': [None, None, None, None, None], 'table_keywords': {}, 'table_image_keywords': {}, 'table_images': {}, 'chart_images': {}, 'chart_images_keywords': {}}\n",
      "{'company': 'BlackRock', 'year': '2018-2019', 'url': 'https://www.blackrock.com/corporate/literature/continuous-disclosure-and-important-information/blk-eeo1-data-disclosure.pdf', 'text_output': {'page': [], 'sentence': [], 'relevance_prob': [], 'carbon_class': [], 'mined_text': []}, 'wordcloud_img_path': ['data/dashboard_data/wordcloud_images/NO_DATA_Carbon Emissions.png', 'data/dashboard_data/wordcloud_images/NO_DATA_Energy.png', 'data/dashboard_data/wordcloud_images/NO_DATA_Waste.png', 'data/dashboard_data/wordcloud_images/NO_DATA_Sustainable Investing.png'], 'sentiment_score': [None, None, None, None, None], 'table_keywords': {'1': []}, 'table_image_keywords': {'1': []}, 'table_images': {'1': []}, 'chart_images': {'1': []}, 'chart_images_keywords': {'1': []}}\n",
      "{'company': 'Stone Harbor Investment Partners', 'year': '2020', 'url': 'https://www.shiplp.com/wp-content/uploads/2021/09/Stone-Harbor-ESG-Policy-November-2020.pdf', 'text_output': {'page': [], 'sentence': [], 'relevance_prob': [], 'carbon_class': [], 'mined_text': []}, 'wordcloud_img_path': ['data/dashboard_data/wordcloud_images/NO_DATA_Carbon Emissions.png', 'data/dashboard_data/wordcloud_images/NO_DATA_Energy.png', 'data/dashboard_data/wordcloud_images/NO_DATA_Waste.png', 'data/dashboard_data/wordcloud_images/NO_DATA_Sustainable Investing.png'], 'sentiment_score': [None, None, None, None, None], 'table_keywords': {}, 'table_image_keywords': {}, 'table_images': {}, 'chart_images': {}, 'chart_images_keywords': {}}\n",
      "{'company': 'Stone Harbor Investment Partners', 'year': '2021', 'url': 'https://www.shiplp.com/wp-content/uploads/2021/06/ESG-and-Sustainability-Related-Disclosures-1.pdf', 'text_output': {'page': [], 'sentence': [], 'relevance_prob': [], 'carbon_class': [], 'mined_text': []}, 'wordcloud_img_path': ['data/dashboard_data/wordcloud_images/NO_DATA_Carbon Emissions.png', 'data/dashboard_data/wordcloud_images/NO_DATA_Energy.png', 'data/dashboard_data/wordcloud_images/NO_DATA_Waste.png', 'data/dashboard_data/wordcloud_images/NO_DATA_Sustainable Investing.png'], 'sentiment_score': [None, None, None, None, None], 'table_keywords': {}, 'table_image_keywords': {}, 'table_images': {}, 'chart_images': {}, 'chart_images_keywords': {}}\n",
      "{'company': 'CNCBI Asset Management', 'year': '2015', 'url': 'https://www.cncbinternational.com/_document/about-us/interim-and-annual-reports/en/2015/annual_report.pdf', 'text_output': {'page': [], 'sentence': [], 'relevance_prob': [], 'carbon_class': [], 'mined_text': []}, 'wordcloud_img_path': ['data/dashboard_data/wordcloud_images/NO_DATA_Carbon Emissions.png', 'data/dashboard_data/wordcloud_images/NO_DATA_Energy.png', 'data/dashboard_data/wordcloud_images/NO_DATA_Waste.png', 'data/dashboard_data/wordcloud_images/NO_DATA_Sustainable Investing.png'], 'sentiment_score': [None, None, None, None, None], 'table_keywords': {'30': [], '32': [], '22': [], '136': []}, 'table_image_keywords': {'30': [], '32': [], '22': [], '136': []}, 'table_images': {'30': [], '32': [], '22': [], '136': []}, 'chart_images': {'30': [], '32': []}, 'chart_images_keywords': {'30': [], '32': []}}\n",
      "{'company': 'HSBC Global Asset Management', 'year': '2021', 'url': 'https://www.assetmanagement.hsbc.com/-/media/files/attachments/common/resource-documents/responsible-investment-review-2021.pdf', 'text_output': {'page': [], 'sentence': [], 'relevance_prob': [], 'carbon_class': [], 'mined_text': []}, 'wordcloud_img_path': ['data/dashboard_data/wordcloud_images/NO_DATA_Carbon Emissions.png', 'data/dashboard_data/wordcloud_images/NO_DATA_Energy.png', 'data/dashboard_data/wordcloud_images/NO_DATA_Waste.png', 'data/dashboard_data/wordcloud_images/NO_DATA_Sustainable Investing.png'], 'sentiment_score': [None, None, None, None, None], 'table_keywords': {}, 'table_image_keywords': {}, 'table_images': {}, 'chart_images': {}, 'chart_images_keywords': {}}\n",
      "{'company': 'CNCBI Asset Management', 'year': '2019', 'url': 'https://www.cncbinternational.com/_document/about-us/interim-and-annual-reports/en/2019/annual_report.pdf', 'text_output': {'page': [], 'sentence': [], 'relevance_prob': [], 'carbon_class': [], 'mined_text': []}, 'wordcloud_img_path': ['data/dashboard_data/wordcloud_images/NO_DATA_Carbon Emissions.png', 'data/dashboard_data/wordcloud_images/NO_DATA_Energy.png', 'data/dashboard_data/wordcloud_images/NO_DATA_Waste.png', 'data/dashboard_data/wordcloud_images/NO_DATA_Sustainable Investing.png'], 'sentiment_score': [None, None, None, None, None], 'table_keywords': {}, 'table_image_keywords': {}, 'table_images': {}, 'chart_images': {}, 'chart_images_keywords': {}}\n",
      "{'company': 'CNCBI Asset Management', 'year': '2018', 'url': 'https://www.cncbinternational.com/_document/about-us/interim-and-annual-reports/en/2018/annual_report.pdf', 'text_output': {'page': [], 'sentence': [], 'relevance_prob': [], 'carbon_class': [], 'mined_text': []}, 'wordcloud_img_path': ['data/dashboard_data/wordcloud_images/NO_DATA_Carbon Emissions.png', 'data/dashboard_data/wordcloud_images/NO_DATA_Energy.png', 'data/dashboard_data/wordcloud_images/NO_DATA_Waste.png', 'data/dashboard_data/wordcloud_images/NO_DATA_Sustainable Investing.png'], 'sentiment_score': [None, None, None, None, None], 'table_keywords': {}, 'table_image_keywords': {}, 'table_images': {}, 'chart_images': {}, 'chart_images_keywords': {}}\n",
      "{'company': 'Labor Pension Fund', 'year': '2020', 'url': 'https://www.blf.gov.tw/media/35588/2020.pdf', 'text_output': {'page': [], 'sentence': [], 'relevance_prob': [], 'carbon_class': [], 'mined_text': []}, 'wordcloud_img_path': ['data/dashboard_data/wordcloud_images/NO_DATA_Carbon Emissions.png', 'data/dashboard_data/wordcloud_images/NO_DATA_Energy.png', 'data/dashboard_data/wordcloud_images/NO_DATA_Waste.png', 'data/dashboard_data/wordcloud_images/NO_DATA_Sustainable Investing.png'], 'sentiment_score': [None, None, None, None, None], 'table_keywords': {}, 'table_image_keywords': {}, 'table_images': {}, 'chart_images': {}, 'chart_images_keywords': {}}\n",
      "{'company': 'BlackRock', 'year': '2018-2019', 'url': 'https://www.blackrock.com/corporate/literature/continuous-disclosure-and-important-information/blk-eeo1-data-disclosure.pdf', 'text_output': {'page': [], 'sentence': [], 'relevance_prob': [], 'carbon_class': [], 'mined_text': []}, 'wordcloud_img_path': ['data/dashboard_data/wordcloud_images/NO_DATA_Carbon Emissions.png', 'data/dashboard_data/wordcloud_images/NO_DATA_Energy.png', 'data/dashboard_data/wordcloud_images/NO_DATA_Waste.png', 'data/dashboard_data/wordcloud_images/NO_DATA_Sustainable Investing.png'], 'sentiment_score': [None, None, None, None, None], 'table_keywords': {'1': []}, 'table_image_keywords': {'1': []}, 'table_images': {'1': []}, 'chart_images': {'1': []}, 'chart_images_keywords': {'1': []}}\n",
      "{'company': \"Employees' Provident\", 'year': '2019-2020', 'url': 'https://search.epfindia.gov.in/Annual_Reports/AR_2019-20.pdf', 'text_output': {'page': [], 'sentence': [], 'relevance_prob': [], 'carbon_class': [], 'mined_text': []}, 'wordcloud_img_path': ['data/dashboard_data/wordcloud_images/NO_DATA_Carbon Emissions.png', 'data/dashboard_data/wordcloud_images/NO_DATA_Energy.png', 'data/dashboard_data/wordcloud_images/NO_DATA_Waste.png', 'data/dashboard_data/wordcloud_images/NO_DATA_Sustainable Investing.png'], 'sentiment_score': [None, None, None, None, None], 'table_keywords': {}, 'table_image_keywords': {}, 'table_images': {}, 'chart_images': {}, 'chart_images_keywords': {}}\n",
      "{'company': 'Public Institute for Social Security', 'year': '2016', 'url': 'https://www.pifss.gov.kw/upload/Annual_Statistical_Abstract_44_Arabic_For_interactive_PDF_2191.pdf', 'text_output': {'page': [], 'sentence': [], 'relevance_prob': [], 'carbon_class': [], 'mined_text': []}, 'wordcloud_img_path': ['data/dashboard_data/wordcloud_images/NO_DATA_Carbon Emissions.png', 'data/dashboard_data/wordcloud_images/NO_DATA_Energy.png', 'data/dashboard_data/wordcloud_images/NO_DATA_Waste.png', 'data/dashboard_data/wordcloud_images/NO_DATA_Sustainable Investing.png'], 'sentiment_score': [None, None, None, None, None], 'table_keywords': 'nan', 'table_image_keywords': 'nan', 'table_images': 'nan', 'chart_images': 'nan', 'chart_images_keywords': 'nan'}\n",
      "{'company': 'Labor Pension Fund', 'year': 'nan', 'url': 'https://www.blf.gov.tw/media/25034/2017.pdf', 'text_output': {'page': [], 'sentence': [], 'relevance_prob': [], 'carbon_class': [], 'mined_text': []}, 'wordcloud_img_path': ['data/dashboard_data/wordcloud_images/NO_DATA_Carbon Emissions.png', 'data/dashboard_data/wordcloud_images/NO_DATA_Energy.png', 'data/dashboard_data/wordcloud_images/NO_DATA_Waste.png', 'data/dashboard_data/wordcloud_images/NO_DATA_Sustainable Investing.png'], 'sentiment_score': [None, None, None, None, None], 'table_keywords': {}, 'table_image_keywords': {}, 'table_images': {}, 'chart_images': {}, 'chart_images_keywords': {}}\n",
      "{'company': 'Asahi Mutual Life ', 'year': '2020', 'url': 'https://www.asahi-life.co.jp/english/annual_report/AnnualReport2020.pdf', 'text_output': {'page': [], 'sentence': [], 'relevance_prob': [], 'carbon_class': [], 'mined_text': []}, 'wordcloud_img_path': ['data/dashboard_data/wordcloud_images/NO_DATA_Carbon Emissions.png', 'data/dashboard_data/wordcloud_images/NO_DATA_Energy.png', 'data/dashboard_data/wordcloud_images/NO_DATA_Waste.png', 'data/dashboard_data/wordcloud_images/NO_DATA_Sustainable Investing.png'], 'sentiment_score': [None, None, None, None, None], 'table_keywords': {}, 'table_image_keywords': {}, 'table_images': {}, 'chart_images': {}, 'chart_images_keywords': {}}\n",
      "{'company': 'Fukoku Mutual Life Insurance', 'year': '2020', 'url': 'https://www.fukoku-life.co.jp/english/annual/download/annual17_11.pdf', 'text_output': {'page': [], 'sentence': [], 'relevance_prob': [], 'carbon_class': [], 'mined_text': []}, 'wordcloud_img_path': ['data/dashboard_data/wordcloud_images/NO_DATA_Carbon Emissions.png', 'data/dashboard_data/wordcloud_images/NO_DATA_Energy.png', 'data/dashboard_data/wordcloud_images/NO_DATA_Waste.png', 'data/dashboard_data/wordcloud_images/NO_DATA_Sustainable Investing.png'], 'sentiment_score': [None, None, None, None, None], 'table_keywords': {'11': [], '15': []}, 'table_image_keywords': {'11': [], '15': []}, 'table_images': {'11': [], '15': []}, 'chart_images': {'11': [], '15': []}, 'chart_images_keywords': {'11': [], '15': []}}\n",
      "{'company': 'FWD Singapore', 'year': '2021', 'url': 'https://www.fwd.com/-/media/documents/esg/fwd-group-esg-strategy_2021-2024.pdf?rev=33dfd348dfbd4482a0b354956f9f9b1e', 'text_output': {'page': [], 'sentence': [], 'relevance_prob': [], 'carbon_class': [], 'mined_text': []}, 'wordcloud_img_path': ['data/dashboard_data/wordcloud_images/NO_DATA_Carbon Emissions.png', 'data/dashboard_data/wordcloud_images/NO_DATA_Energy.png', 'data/dashboard_data/wordcloud_images/NO_DATA_Waste.png', 'data/dashboard_data/wordcloud_images/NO_DATA_Sustainable Investing.png'], 'sentiment_score': [None, None, None, None, None], 'table_keywords': {}, 'table_image_keywords': {}, 'table_images': {}, 'chart_images': {}, 'chart_images_keywords': {}}\n",
      "{'company': 'Dai-ichi Life Insurance Co. Ltd.', 'year': '2020', 'url': 'https://www.dai-ichi-life.co.jp/english/news_release/2020/pdf/index_001.pdf', 'text_output': {'page': [], 'sentence': [], 'relevance_prob': [], 'carbon_class': [], 'mined_text': []}, 'wordcloud_img_path': ['data/dashboard_data/wordcloud_images/NO_DATA_Carbon Emissions.png', 'data/dashboard_data/wordcloud_images/NO_DATA_Energy.png', 'data/dashboard_data/wordcloud_images/NO_DATA_Waste.png', 'data/dashboard_data/wordcloud_images/NO_DATA_Sustainable Investing.png'], 'sentiment_score': [None, None, None, None, None], 'table_keywords': {}, 'table_image_keywords': {}, 'table_images': {}, 'chart_images': {}, 'chart_images_keywords': {}}\n"
     ]
    }
   ],
   "source": [
    "count = 0\n",
    "for fi in alls:\n",
    "    text_output = fi[\"text_output\"]\n",
    "    pages = text_output[\"page\"]\n",
    "    if len(pages) == 0 :\n",
    "        print(fi)\n",
    "        count+=1"
   ]
  },
  {
   "cell_type": "code",
   "execution_count": 9,
   "metadata": {},
   "outputs": [
    {
     "data": {
      "text/plain": [
       "24"
      ]
     },
     "execution_count": 9,
     "metadata": {},
     "output_type": "execute_result"
    }
   ],
   "source": [
    "count"
   ]
  },
  {
   "cell_type": "code",
   "execution_count": null,
   "metadata": {},
   "outputs": [],
   "source": [
    "# throw error if PDF cannot get\n",
    "# throw error if text_output is nothing"
   ]
  }
 ],
 "metadata": {
  "kernelspec": {
   "display_name": "Python 3",
   "language": "python",
   "name": "python3"
  },
  "language_info": {
   "codemirror_mode": {
    "name": "ipython",
    "version": 3
   },
   "file_extension": ".py",
   "mimetype": "text/x-python",
   "name": "python",
   "nbconvert_exporter": "python",
   "pygments_lexer": "ipython3",
   "version": "3.8.5"
  }
 },
 "nbformat": 4,
 "nbformat_minor": 4
}

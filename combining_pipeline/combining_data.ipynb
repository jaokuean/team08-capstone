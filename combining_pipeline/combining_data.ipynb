{
 "cells": [
  {
   "cell_type": "markdown",
   "metadata": {},
   "source": [
    "# Combining Data for Final Database"
   ]
  },
  {
   "cell_type": "code",
   "execution_count": 2,
   "metadata": {},
   "outputs": [],
   "source": [
    "import pandas as pd\n",
    "import json\n",
    "import os\n",
    "import numpy as np"
   ]
  },
  {
   "cell_type": "code",
   "execution_count": 3,
   "metadata": {},
   "outputs": [],
   "source": [
    "DATA_FOLDER = \"../data/preprocessed_sustainability_reports/\""
   ]
  },
  {
   "cell_type": "code",
   "execution_count": 23,
   "metadata": {
    "scrolled": true
   },
   "outputs": [
    {
     "data": {
      "text/plain": [
       "['all_asset_managers_preprocessed_vfinal_BERT.json',\n",
       " '.DS_Store',\n",
       " 'all_pension_funds_preprocessed_vfinal_BERT.json',\n",
       " 'all_asian_banks_preprocessed_vfinal_BERT.json',\n",
       " 'all_pension_funds_preprocessed_vfinal.json',\n",
       " 'all_vfinal_BERT.json',\n",
       " 'all_asset_managers_preprocessed_vfinal.json',\n",
       " 'all_insurance_preprocessed_vfinal_BERT.json',\n",
       " 'all_vfinal.json',\n",
       " 'all_asian_banks_preprocessed_vfinal.json',\n",
       " 'all_insurance_preprocessed_vfinal.json']"
      ]
     },
     "execution_count": 23,
     "metadata": {},
     "output_type": "execute_result"
    }
   ],
   "source": [
    "[file for file in os.listdir(DATA_FOLDER)]"
   ]
  },
  {
   "cell_type": "markdown",
   "metadata": {},
   "source": [
    "### Combine all 4 json into 1"
   ]
  },
  {
   "cell_type": "code",
   "execution_count": 16,
   "metadata": {},
   "outputs": [],
   "source": [
    "files = [file for file in os.listdir(DATA_FOLDER) if \"BERT\" not in file and \".DS\" not in file]\n",
    "files_BERT = [file for file in os.listdir(DATA_FOLDER) if \"BERT\" in file]\n",
    "\n",
    "def merge_JsonFiles(filename):\n",
    "    result = list()\n",
    "    for f1 in filename:\n",
    "        with open(DATA_FOLDER + f1, 'r') as infile:\n",
    "            result.extend(json.load(infile))\n",
    "\n",
    "    with open(DATA_FOLDER +'all_vfinal.json', 'w') as output_file:\n",
    "        json.dump(result, output_file)\n",
    "\n",
    "merge_JsonFiles(files)"
   ]
  },
  {
   "cell_type": "code",
   "execution_count": 26,
   "metadata": {},
   "outputs": [],
   "source": [
    "def merge_JsonFiles(filename):\n",
    "    result = list()\n",
    "    for f1 in filename:\n",
    "        with open(DATA_FOLDER + f1, 'r') as infile:\n",
    "            result.extend(json.load(infile))\n",
    "\n",
    "    with open(DATA_FOLDER + 'all_vfinal_BERT.json', 'w') as output_file:\n",
    "        json.dump(result, output_file)\n",
    "\n",
    "merge_JsonFiles(files_BERT)"
   ]
  },
  {
   "cell_type": "code",
   "execution_count": 130,
   "metadata": {},
   "outputs": [],
   "source": [
    "with open(DATA_FOLDER + 'all_vfinal_BERT.json', 'r') as infile:\n",
    "    all_data = json.load(infile)"
   ]
  },
  {
   "cell_type": "code",
   "execution_count": 131,
   "metadata": {},
   "outputs": [
    {
     "data": {
      "text/plain": [
       "236"
      ]
     },
     "execution_count": 131,
     "metadata": {},
     "output_type": "execute_result"
    }
   ],
   "source": [
    "len(all_data)"
   ]
  },
  {
   "cell_type": "markdown",
   "metadata": {},
   "source": [
    "### Combine text data predictions with charts"
   ]
  },
  {
   "cell_type": "code",
   "execution_count": 120,
   "metadata": {},
   "outputs": [],
   "source": [
    "DATA_FOLDER = \"../data/dashboard_data/\"\n",
    "with open(DATA_FOLDER + 'all_text_output.json','r') as infile:  \n",
    "    text_predictions = json.load(infile)\n",
    "\n",
    "with open(DATA_FOLDER + 'all_chart_output.json','r') as infile:  \n",
    "    chart_predictions = json.load(infile)\n",
    "        "
   ]
  },
  {
   "cell_type": "code",
   "execution_count": null,
   "metadata": {},
   "outputs": [],
   "source": [
    "text_charts = []\n",
    "count = 0\n",
    "count_a = 0\n",
    "for company in text_predictions:\n",
    "    company_t = company[\"company\"]\n",
    "    year_t = company[\"year\"]\n",
    "    flag = 0\n",
    "    for company_charts in chart_predictions:\n",
    "        company_c = company_charts[\"company\"]\n",
    "        year_c = company_charts[\"year\"]\n",
    "        \n",
    "        if company_t == company_c and year_t == year_c:\n",
    "            charts_c = company_charts[\"images_path\"]\n",
    "            company[\"charts_images\"] = charts_c\n",
    "            text_charts.append(company)\n",
    "            flag = 1\n",
    "            count+=1\n",
    "            break\n",
    "           \n",
    "    if flag == 0 :\n",
    "        count_a +=1\n",
    "        company[\"charts_images\"] = np.nan \n",
    "        text_charts.append(company)"
   ]
  },
  {
   "cell_type": "code",
   "execution_count": 122,
   "metadata": {},
   "outputs": [
    {
     "data": {
      "text/plain": [
       "236"
      ]
     },
     "execution_count": 122,
     "metadata": {},
     "output_type": "execute_result"
    }
   ],
   "source": [
    "len(text_charts)"
   ]
  },
  {
   "cell_type": "code",
   "execution_count": 123,
   "metadata": {},
   "outputs": [],
   "source": [
    "with open(DATA_FOLDER +'all_text_chart_output.json', 'w') as output_file:\n",
    "    json.dump(text_charts, output_file)\n"
   ]
  },
  {
   "cell_type": "markdown",
   "metadata": {},
   "source": [
    "### Combine text & chart data with tables & wordcloud"
   ]
  },
  {
   "cell_type": "code",
   "execution_count": 230,
   "metadata": {},
   "outputs": [],
   "source": [
    "DATA_FOLDER = \"../data/dashboard_data/\"\n",
    "with open(DATA_FOLDER + 'all_text_chart_wordcloud.json','r') as infile:  \n",
    "    all_except_table = json.load(infile)"
   ]
  },
  {
   "cell_type": "code",
   "execution_count": 231,
   "metadata": {},
   "outputs": [
    {
     "data": {
      "text/plain": [
       "236"
      ]
     },
     "execution_count": 231,
     "metadata": {},
     "output_type": "execute_result"
    }
   ],
   "source": [
    "len(all_except_table)"
   ]
  },
  {
   "cell_type": "code",
   "execution_count": 232,
   "metadata": {},
   "outputs": [],
   "source": [
    "with open(DATA_FOLDER + 'all_tables.json','r') as infile:  \n",
    "    all_tables = json.load(infile)"
   ]
  },
  {
   "cell_type": "code",
   "execution_count": 233,
   "metadata": {},
   "outputs": [
    {
     "data": {
      "text/plain": [
       "230"
      ]
     },
     "execution_count": 233,
     "metadata": {},
     "output_type": "execute_result"
    }
   ],
   "source": [
    "len(all_tables)"
   ]
  },
  {
   "cell_type": "code",
   "execution_count": 234,
   "metadata": {
    "scrolled": true
   },
   "outputs": [],
   "source": [
    "final_database = []\n",
    "count = 0\n",
    "count_a = 0\n",
    "for company in all_except_table:\n",
    "    company_t = company[\"company\"]\n",
    "    year_t = company[\"year\"]\n",
    "    flag = 0\n",
    "    for table in all_tables:\n",
    "        company_c = table[\"company\"]\n",
    "        year_c = table[\"year\"]\n",
    "        \n",
    "        if company_t == company_c and year_t == year_c:\n",
    "            company[\"table_keywords\"] = table[\"table_keywords\"]\n",
    "            company[\"table_image_keywords\"] = table[\"table_image_keywords\"]\n",
    "            company[\"table_images\"]    = table[\"table_images\"]           \n",
    "            final_database.append(company)\n",
    "            flag = 1\n",
    "            count+=1\n",
    "            break\n",
    "           \n",
    "    if flag == 0 :\n",
    "        count_a +=1\n",
    "        company[\"table_keyowrds\"] = \"nan\"\n",
    "        company[\"table_image_keyowrds\"] = \"nan\" \n",
    "        company[\"table_images\"] = \"nan\"    \n",
    "        final_database.append(company)"
   ]
  },
  {
   "cell_type": "code",
   "execution_count": 235,
   "metadata": {
    "scrolled": true
   },
   "outputs": [],
   "source": [
    "final_database_v1 = []\n",
    "for fi in final_database:\n",
    "    chart_images = fi[\"charts_images\"]\n",
    "   \n",
    "    if chart_images == \"nan\":\n",
    "        final_database_v1.append(fi)\n",
    "        continue\n",
    "    \n",
    "    elif chart_images == {}:\n",
    "        fi[\"charts_images\"] = \"nan\"\n",
    "        final_database_v1.append(fi)\n",
    "        continue\n",
    "        \n",
    "    for page, images in chart_images.items():\n",
    "        image_new = []\n",
    "        if len(images) != 0 :\n",
    "            for image in images:\n",
    "                new_path = \"data/dashboard_data/\"+ image\n",
    "                image_new.append(new_path)\n",
    "        fi[\"charts_images\"][page] = image_new\n",
    "    final_database_v1.append(fi)\n",
    "                "
   ]
  },
  {
   "cell_type": "code",
   "execution_count": 236,
   "metadata": {},
   "outputs": [],
   "source": [
    "with open(DATA_FOLDER +'final_database.json', 'w') as output_file:\n",
    "    json.dump(final_database_v1, output_file)\n"
   ]
  },
  {
   "cell_type": "code",
   "execution_count": 5,
   "metadata": {},
   "outputs": [],
   "source": [
    "DATA_FOLDER = \"../data/dashboard_data/\"\n",
    "with open(DATA_FOLDER + 'final_database.json','r') as infile:  \n",
    "    alls = json.load(infile)"
   ]
  },
  {
   "cell_type": "code",
   "execution_count": 8,
   "metadata": {
    "scrolled": false
   },
   "outputs": [],
   "source": [
    "count = 0\n",
    "for fi in alls:\n",
    "    text_output = fi[\"text_output\"]\n",
    "    pages = text_output[\"page\"]\n",
    "    if len(pages) == 0 :\n",
    "        count+=1"
   ]
  },
  {
   "cell_type": "code",
   "execution_count": 9,
   "metadata": {},
   "outputs": [
    {
     "data": {
      "text/plain": [
       "24"
      ]
     },
     "execution_count": 9,
     "metadata": {},
     "output_type": "execute_result"
    }
   ],
   "source": [
    "count"
   ]
  },
  {
   "cell_type": "code",
   "execution_count": null,
   "metadata": {},
   "outputs": [],
   "source": [
    "# throw error if PDF cannot get\n",
    "# throw error if text_output is nothing"
   ]
  }
 ],
 "metadata": {
  "kernelspec": {
   "display_name": "Python 3",
   "language": "python",
   "name": "python3"
  },
  "language_info": {
   "codemirror_mode": {
    "name": "ipython",
    "version": 3
   },
   "file_extension": ".py",
   "mimetype": "text/x-python",
   "name": "python",
   "nbconvert_exporter": "python",
   "pygments_lexer": "ipython3",
   "version": "3.8.5"
  }
 },
 "nbformat": 4,
 "nbformat_minor": 4
}
